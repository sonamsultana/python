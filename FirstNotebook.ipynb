{
 "cells": [
  {
   "cell_type": "code",
   "execution_count": 1,
   "id": "4c159d4a-6803-4dd8-a8d9-6684ae2747b3",
   "metadata": {},
   "outputs": [
    {
     "name": "stdout",
     "output_type": "stream",
     "text": [
      "sonam\n"
     ]
    }
   ],
   "source": [
    "print(\"sonam\")"
   ]
  },
  {
   "cell_type": "code",
   "execution_count": 2,
   "id": "af93e843-b2a1-4da6-b0f5-4b483c3dd801",
   "metadata": {},
   "outputs": [
    {
     "name": "stdout",
     "output_type": "stream",
     "text": [
      "6\n"
     ]
    }
   ],
   "source": [
    "print(3+3)"
   ]
  },
  {
   "cell_type": "code",
   "execution_count": 3,
   "id": "ac250d0e-4e39-4f25-b69d-25c59445c240",
   "metadata": {},
   "outputs": [
    {
     "name": "stdout",
     "output_type": "stream",
     "text": [
      "144\n"
     ]
    }
   ],
   "source": [
    "print(2*8*9)"
   ]
  },
  {
   "cell_type": "code",
   "execution_count": null,
   "id": "af403c6c-8ad6-4183-961c-cd190b9afbb6",
   "metadata": {},
   "outputs": [],
   "source": []
  },
  {
   "cell_type": "code",
   "execution_count": null,
   "id": "b15fc174-8454-4fed-8d56-cf525fd4cb50",
   "metadata": {},
   "outputs": [],
   "source": [
    "#int\n"
   ]
  },
  {
   "cell_type": "code",
   "execution_count": 1,
   "id": "8a01d187-472d-416c-a579-2b0ba3e6d162",
   "metadata": {},
   "outputs": [
    {
     "data": {
      "text/plain": [
       "2"
      ]
     },
     "execution_count": 1,
     "metadata": {},
     "output_type": "execute_result"
    }
   ],
   "source": [
    "a=2\n",
    "int(a)"
   ]
  },
  {
   "cell_type": "code",
   "execution_count": 2,
   "id": "6ca7a9e9-c355-49b7-af94-f33b6595ee0b",
   "metadata": {},
   "outputs": [
    {
     "name": "stdout",
     "output_type": "stream",
     "text": [
      "2\n"
     ]
    }
   ],
   "source": [
    "a=2\n",
    "print(a)"
   ]
  },
  {
   "cell_type": "code",
   "execution_count": 5,
   "id": "1dc631ef-b49c-45bf-891b-7b555aea432f",
   "metadata": {},
   "outputs": [
    {
     "name": "stdout",
     "output_type": "stream",
     "text": [
      "2\n"
     ]
    }
   ],
   "source": [
    "a=2.0\n",
    "print(int)"
   ]
  },
  {
   "cell_type": "code",
   "execution_count": 13,
   "id": "e90af34e-eaf8-4e09-92d0-127635f265f2",
   "metadata": {},
   "outputs": [
    {
     "ename": "TypeError",
     "evalue": "'int' object is not callable",
     "output_type": "error",
     "traceback": [
      "\u001b[1;31m---------------------------------------------------------------------------\u001b[0m",
      "\u001b[1;31mTypeError\u001b[0m                                 Traceback (most recent call last)",
      "Cell \u001b[1;32mIn[13], line 2\u001b[0m\n\u001b[0;32m      1\u001b[0m a\u001b[38;5;241m=\u001b[39m\u001b[38;5;241m2.0\u001b[39m\n\u001b[1;32m----> 2\u001b[0m \u001b[38;5;28mint\u001b[39m(a)\n",
      "\u001b[1;31mTypeError\u001b[0m: 'int' object is not callable"
     ]
    }
   ],
   "source": [
    "a=2.0\n",
    "int(a)"
   ]
  },
  {
   "cell_type": "code",
   "execution_count": 7,
   "id": "f309faeb-51b4-480d-89bf-fd6fd0c9c145",
   "metadata": {},
   "outputs": [
    {
     "data": {
      "text/plain": [
       "int"
      ]
     },
     "execution_count": 7,
     "metadata": {},
     "output_type": "execute_result"
    }
   ],
   "source": [
    "i=2\n",
    "type(i)"
   ]
  },
  {
   "cell_type": "code",
   "execution_count": null,
   "id": "d7eca309-7820-4d58-ab66-f3ec9d07850e",
   "metadata": {},
   "outputs": [],
   "source": [
    "#float"
   ]
  },
  {
   "cell_type": "code",
   "execution_count": 8,
   "id": "922b67ff-328d-4799-ac50-0a1a56180b1a",
   "metadata": {},
   "outputs": [
    {
     "name": "stdout",
     "output_type": "stream",
     "text": [
      "3.0\n"
     ]
    }
   ],
   "source": [
    "f=3.0\n",
    "print(f)"
   ]
  },
  {
   "cell_type": "code",
   "execution_count": 12,
   "id": "bbe82ce2-e534-4960-8834-fe71437c2b46",
   "metadata": {},
   "outputs": [
    {
     "ename": "TypeError",
     "evalue": "'int' object is not callable",
     "output_type": "error",
     "traceback": [
      "\u001b[1;31m---------------------------------------------------------------------------\u001b[0m",
      "\u001b[1;31mTypeError\u001b[0m                                 Traceback (most recent call last)",
      "Cell \u001b[1;32mIn[12], line 2\u001b[0m\n\u001b[0;32m      1\u001b[0m a\u001b[38;5;241m=\u001b[39m\u001b[38;5;241m3\u001b[39m\n\u001b[1;32m----> 2\u001b[0m \u001b[38;5;28mfloat\u001b[39m(a)\n",
      "\u001b[1;31mTypeError\u001b[0m: 'int' object is not callable"
     ]
    }
   ],
   "source": [
    "a=3\n",
    "float(a)"
   ]
  },
  {
   "cell_type": "code",
   "execution_count": 15,
   "id": "a879822d-78f0-4699-8a07-460bb2dfd53b",
   "metadata": {},
   "outputs": [
    {
     "ename": "TypeError",
     "evalue": "'int' object is not callable",
     "output_type": "error",
     "traceback": [
      "\u001b[1;31m---------------------------------------------------------------------------\u001b[0m",
      "\u001b[1;31mTypeError\u001b[0m                                 Traceback (most recent call last)",
      "Cell \u001b[1;32mIn[15], line 2\u001b[0m\n\u001b[0;32m      1\u001b[0m a\u001b[38;5;241m=\u001b[39m\u001b[38;5;241m3.0\u001b[39m\n\u001b[1;32m----> 2\u001b[0m \u001b[38;5;28mfloat\u001b[39m(a)\n",
      "\u001b[1;31mTypeError\u001b[0m: 'int' object is not callable"
     ]
    }
   ],
   "source": [
    "a=3.0\n",
    "float(a)"
   ]
  },
  {
   "cell_type": "code",
   "execution_count": 16,
   "id": "357ad0be-cb27-44e7-8024-735c9bc81cf0",
   "metadata": {},
   "outputs": [
    {
     "data": {
      "text/plain": [
       "float"
      ]
     },
     "execution_count": 16,
     "metadata": {},
     "output_type": "execute_result"
    }
   ],
   "source": [
    "f=2.0\n",
    "type(f)"
   ]
  },
  {
   "cell_type": "code",
   "execution_count": 7,
   "id": "569adf22-8346-4e7e-8c30-b6164986c669",
   "metadata": {},
   "outputs": [
    {
     "data": {
      "text/plain": [
       "2.0"
      ]
     },
     "execution_count": 7,
     "metadata": {},
     "output_type": "execute_result"
    }
   ],
   "source": [
    "f1=2e0\n",
    "f1"
   ]
  },
  {
   "cell_type": "code",
   "execution_count": 3,
   "id": "77985be7-51fd-4002-ac14-8e83fa0ea479",
   "metadata": {},
   "outputs": [
    {
     "data": {
      "text/plain": [
       "20.0"
      ]
     },
     "execution_count": 3,
     "metadata": {},
     "output_type": "execute_result"
    }
   ],
   "source": [
    "f1=2e1\n",
    "f1"
   ]
  },
  {
   "cell_type": "code",
   "execution_count": 4,
   "id": "b88b3bc1-9d98-4d91-be63-b4c3dd8525b4",
   "metadata": {},
   "outputs": [
    {
     "data": {
      "text/plain": [
       "2000.0"
      ]
     },
     "execution_count": 4,
     "metadata": {},
     "output_type": "execute_result"
    }
   ],
   "source": [
    "f2=2e3\n",
    "f2"
   ]
  },
  {
   "cell_type": "code",
   "execution_count": 6,
   "id": "b632dd90-0f16-4670-9093-533006d1d09a",
   "metadata": {},
   "outputs": [
    {
     "data": {
      "text/plain": [
       "200.0"
      ]
     },
     "execution_count": 6,
     "metadata": {},
     "output_type": "execute_result"
    }
   ],
   "source": [
    "f2=2e2\n",
    "f2"
   ]
  },
  {
   "cell_type": "code",
   "execution_count": 16,
   "id": "805315c7-3d34-4df1-b91a-3c6a0bc6bbd1",
   "metadata": {},
   "outputs": [
    {
     "data": {
      "text/plain": [
       "30000.0"
      ]
     },
     "execution_count": 16,
     "metadata": {},
     "output_type": "execute_result"
    }
   ],
   "source": [
    "f=3e4\n",
    "f"
   ]
  },
  {
   "cell_type": "code",
   "execution_count": null,
   "id": "15ec797f-0c7d-48a2-ba3d-5edd04e05d8d",
   "metadata": {},
   "outputs": [],
   "source": []
  },
  {
   "cell_type": "code",
   "execution_count": null,
   "id": "f5deb856-ceca-430f-9a2c-42c628fb529a",
   "metadata": {},
   "outputs": [],
   "source": []
  },
  {
   "cell_type": "code",
   "execution_count": null,
   "id": "a595c325-f75c-4bd4-a60a-0e7551627868",
   "metadata": {},
   "outputs": [],
   "source": [
    "#24.01.25\n",
    "#boolean"
   ]
  },
  {
   "cell_type": "code",
   "execution_count": 1,
   "id": "b7a2db4d-b46d-44b3-92f9-90abb2a681df",
   "metadata": {},
   "outputs": [
    {
     "data": {
      "text/plain": [
       "True"
      ]
     },
     "execution_count": 1,
     "metadata": {},
     "output_type": "execute_result"
    }
   ],
   "source": [
    "b=True\n",
    "b"
   ]
  },
  {
   "cell_type": "code",
   "execution_count": 2,
   "id": "702f1074-fe50-47bf-94cb-ce2dba8dbd67",
   "metadata": {},
   "outputs": [
    {
     "ename": "NameError",
     "evalue": "name 'TRUE' is not defined",
     "output_type": "error",
     "traceback": [
      "\u001b[1;31m---------------------------------------------------------------------------\u001b[0m",
      "\u001b[1;31mNameError\u001b[0m                                 Traceback (most recent call last)",
      "Cell \u001b[1;32mIn[2], line 1\u001b[0m\n\u001b[1;32m----> 1\u001b[0m b\u001b[38;5;241m=\u001b[39mTRUE\n\u001b[0;32m      2\u001b[0m b\n",
      "\u001b[1;31mNameError\u001b[0m: name 'TRUE' is not defined"
     ]
    }
   ],
   "source": [
    "b=TRUE\n",
    "b"
   ]
  },
  {
   "cell_type": "code",
   "execution_count": 8,
   "id": "06355271-6e08-4988-9e46-0bf19b3f2b63",
   "metadata": {},
   "outputs": [
    {
     "data": {
      "text/plain": [
       "bool"
      ]
     },
     "execution_count": 8,
     "metadata": {},
     "output_type": "execute_result"
    }
   ],
   "source": [
    "b=True\n",
    "type(b)"
   ]
  },
  {
   "cell_type": "code",
   "execution_count": 9,
   "id": "a384a820-2de7-4ca9-acfd-7b6f5f740d73",
   "metadata": {},
   "outputs": [
    {
     "data": {
      "text/plain": [
       "['False',\n",
       " 'None',\n",
       " 'True',\n",
       " 'and',\n",
       " 'as',\n",
       " 'assert',\n",
       " 'async',\n",
       " 'await',\n",
       " 'break',\n",
       " 'class',\n",
       " 'continue',\n",
       " 'def',\n",
       " 'del',\n",
       " 'elif',\n",
       " 'else',\n",
       " 'except',\n",
       " 'finally',\n",
       " 'for',\n",
       " 'from',\n",
       " 'global',\n",
       " 'if',\n",
       " 'import',\n",
       " 'in',\n",
       " 'is',\n",
       " 'lambda',\n",
       " 'nonlocal',\n",
       " 'not',\n",
       " 'or',\n",
       " 'pass',\n",
       " 'raise',\n",
       " 'return',\n",
       " 'try',\n",
       " 'while',\n",
       " 'with',\n",
       " 'yield']"
      ]
     },
     "execution_count": 9,
     "metadata": {},
     "output_type": "execute_result"
    }
   ],
   "source": [
    "import keyword\n",
    "keyword.kwlist"
   ]
  },
  {
   "cell_type": "markdown",
   "id": "3c7bbbbb-a1f5-4230-92e0-1d0a2b97b410",
   "metadata": {},
   "source": [
    " "
   ]
  },
  {
   "cell_type": "code",
   "execution_count": 10,
   "id": "4ab0498d-b2c1-47f1-8e7e-0b8836308def",
   "metadata": {},
   "outputs": [
    {
     "ename": "NameError",
     "evalue": "name 'true' is not defined",
     "output_type": "error",
     "traceback": [
      "\u001b[1;31m---------------------------------------------------------------------------\u001b[0m",
      "\u001b[1;31mNameError\u001b[0m                                 Traceback (most recent call last)",
      "Cell \u001b[1;32mIn[10], line 1\u001b[0m\n\u001b[1;32m----> 1\u001b[0m b\u001b[38;5;241m=\u001b[39mtrue\n\u001b[0;32m      2\u001b[0m b\n",
      "\u001b[1;31mNameError\u001b[0m: name 'true' is not defined"
     ]
    }
   ],
   "source": [
    "b=true\n",
    "b"
   ]
  },
  {
   "cell_type": "code",
   "execution_count": 11,
   "id": "4c1f17fb-9afb-417b-8927-d3ad164fb1cf",
   "metadata": {},
   "outputs": [
    {
     "data": {
      "text/plain": [
       "False"
      ]
     },
     "execution_count": 11,
     "metadata": {},
     "output_type": "execute_result"
    }
   ],
   "source": [
    "b=False\n",
    "b"
   ]
  },
  {
   "cell_type": "code",
   "execution_count": 12,
   "id": "bbcc2964-bd57-46ba-8763-34752304e9c0",
   "metadata": {},
   "outputs": [
    {
     "data": {
      "text/plain": [
       "bool"
      ]
     },
     "execution_count": 12,
     "metadata": {},
     "output_type": "execute_result"
    }
   ],
   "source": [
    "type(b) #type is inbuilt function"
   ]
  },
  {
   "cell_type": "code",
   "execution_count": 13,
   "id": "f75379d7-2cdb-4f73-8c10-9a0d99fce837",
   "metadata": {},
   "outputs": [
    {
     "data": {
      "text/plain": [
       "1"
      ]
     },
     "execution_count": 13,
     "metadata": {},
     "output_type": "execute_result"
    }
   ],
   "source": [
    "True+True+False-True"
   ]
  },
  {
   "cell_type": "code",
   "execution_count": 14,
   "id": "b8fa0db3-a889-418b-9251-79acac503aea",
   "metadata": {},
   "outputs": [
    {
     "data": {
      "text/plain": [
       "True"
      ]
     },
     "execution_count": 14,
     "metadata": {},
     "output_type": "execute_result"
    }
   ],
   "source": [
    "b1=True\n",
    "b1"
   ]
  },
  {
   "cell_type": "code",
   "execution_count": 15,
   "id": "87fa6cc4-6e8d-471f-b517-60dc26028f8d",
   "metadata": {},
   "outputs": [
    {
     "data": {
      "text/plain": [
       "False"
      ]
     },
     "execution_count": 15,
     "metadata": {},
     "output_type": "execute_result"
    }
   ],
   "source": [
    "b2=False\n",
    "b2"
   ]
  },
  {
   "cell_type": "code",
   "execution_count": 18,
   "id": "e728addc-b0db-4e9f-8412-0c99018cded3",
   "metadata": {},
   "outputs": [
    {
     "name": "stdout",
     "output_type": "stream",
     "text": [
      "True\n"
     ]
    }
   ],
   "source": [
    "print(b1)"
   ]
  },
  {
   "cell_type": "code",
   "execution_count": 19,
   "id": "ea7c1706-53e5-41f5-b5c6-4df346be203e",
   "metadata": {},
   "outputs": [
    {
     "name": "stdout",
     "output_type": "stream",
     "text": [
      "False\n"
     ]
    }
   ],
   "source": [
    "print(b2)"
   ]
  },
  {
   "cell_type": "code",
   "execution_count": 21,
   "id": "0c423532-87b2-4d24-b2f4-99dd4b173fff",
   "metadata": {},
   "outputs": [
    {
     "ename": "NameError",
     "evalue": "name 'none' is not defined",
     "output_type": "error",
     "traceback": [
      "\u001b[1;31m---------------------------------------------------------------------------\u001b[0m",
      "\u001b[1;31mNameError\u001b[0m                                 Traceback (most recent call last)",
      "Cell \u001b[1;32mIn[21], line 1\u001b[0m\n\u001b[1;32m----> 1\u001b[0m b3\u001b[38;5;241m=\u001b[39mnone\n\u001b[0;32m      2\u001b[0m \u001b[38;5;28mtype\u001b[39m(b3)\n",
      "\u001b[1;31mNameError\u001b[0m: name 'none' is not defined"
     ]
    }
   ],
   "source": [
    "b3=none\n",
    "type(b3)"
   ]
  },
  {
   "cell_type": "code",
   "execution_count": 22,
   "id": "78f5baff-27ac-46d8-ab97-7a843e76e265",
   "metadata": {},
   "outputs": [
    {
     "data": {
      "text/plain": [
       "1"
      ]
     },
     "execution_count": 22,
     "metadata": {},
     "output_type": "execute_result"
    }
   ],
   "source": [
    "b1+b2"
   ]
  },
  {
   "cell_type": "code",
   "execution_count": 23,
   "id": "87dd34e6-2ee7-400a-ae7f-eed08d63aa7c",
   "metadata": {},
   "outputs": [
    {
     "data": {
      "text/plain": [
       "1"
      ]
     },
     "execution_count": 23,
     "metadata": {},
     "output_type": "execute_result"
    }
   ],
   "source": [
    "b1-b2"
   ]
  },
  {
   "cell_type": "code",
   "execution_count": 24,
   "id": "d463b915-39d8-40e8-8133-2b5a44eaf09c",
   "metadata": {},
   "outputs": [
    {
     "data": {
      "text/plain": [
       "-1"
      ]
     },
     "execution_count": 24,
     "metadata": {},
     "output_type": "execute_result"
    }
   ],
   "source": [
    "b2-b1"
   ]
  },
  {
   "cell_type": "code",
   "execution_count": 25,
   "id": "2bf8b2c0-bf48-4ffd-9f55-2e62335d7a73",
   "metadata": {},
   "outputs": [
    {
     "data": {
      "text/plain": [
       "1"
      ]
     },
     "execution_count": 25,
     "metadata": {},
     "output_type": "execute_result"
    }
   ],
   "source": [
    "b1*b1"
   ]
  },
  {
   "cell_type": "code",
   "execution_count": 26,
   "id": "6d040023-cc16-44f2-be48-52dc0ca67e91",
   "metadata": {},
   "outputs": [
    {
     "data": {
      "text/plain": [
       "0"
      ]
     },
     "execution_count": 26,
     "metadata": {},
     "output_type": "execute_result"
    }
   ],
   "source": [
    "b2-b2"
   ]
  },
  {
   "cell_type": "markdown",
   "id": "c0258f26-9b20-4bb1-a6de-f41856258dc2",
   "metadata": {},
   "source": [
    "#complex[(a+bj) or (a+bJ)]\n",
    "# a is real part & b is imaginary part & j is square root of -1"
   ]
  },
  {
   "cell_type": "code",
   "execution_count": 27,
   "id": "233a80c9-5b65-4d1b-a4c5-0c4f5941cdd6",
   "metadata": {},
   "outputs": [
    {
     "data": {
      "text/plain": [
       "(10+20j)"
      ]
     },
     "execution_count": 27,
     "metadata": {},
     "output_type": "execute_result"
    }
   ],
   "source": [
    "c=10+20j\n",
    "c"
   ]
  },
  {
   "cell_type": "code",
   "execution_count": 28,
   "id": "6c3efb21-faf4-469f-82ec-b3d9fc84e8c9",
   "metadata": {},
   "outputs": [
    {
     "data": {
      "text/plain": [
       "complex"
      ]
     },
     "execution_count": 28,
     "metadata": {},
     "output_type": "execute_result"
    }
   ],
   "source": [
    "type(c)"
   ]
  },
  {
   "cell_type": "markdown",
   "id": "646f477b-02b7-4cd5-939f-479a5dc18cf2",
   "metadata": {},
   "source": [
    "#tricks to remember\n",
    "# :--> bydefault 4 spaces\n",
    "#fun always we call with dot(.)"
   ]
  },
  {
   "cell_type": "code",
   "execution_count": 29,
   "id": "fac13ef7-2852-40fe-94a5-fe9da2ff42a0",
   "metadata": {},
   "outputs": [
    {
     "data": {
      "text/plain": [
       "10.0"
      ]
     },
     "execution_count": 29,
     "metadata": {},
     "output_type": "execute_result"
    }
   ],
   "source": [
    "c.real"
   ]
  },
  {
   "cell_type": "code",
   "execution_count": 30,
   "id": "58c57c93-0fbd-465d-9727-7d5d23121cdc",
   "metadata": {},
   "outputs": [
    {
     "data": {
      "text/plain": [
       "20.0"
      ]
     },
     "execution_count": 30,
     "metadata": {},
     "output_type": "execute_result"
    }
   ],
   "source": [
    "c.imag"
   ]
  },
  {
   "cell_type": "code",
   "execution_count": 31,
   "id": "e3005b87-16ca-4c7c-8298-cd86a4fe8df9",
   "metadata": {},
   "outputs": [
    {
     "data": {
      "text/plain": [
       "(10+20j)"
      ]
     },
     "execution_count": 31,
     "metadata": {},
     "output_type": "execute_result"
    }
   ],
   "source": [
    "c"
   ]
  },
  {
   "cell_type": "code",
   "execution_count": 32,
   "id": "2fc98564-f67c-4f30-9c47-5babbbe6976f",
   "metadata": {},
   "outputs": [
    {
     "data": {
      "text/plain": [
       "(5+10j)"
      ]
     },
     "execution_count": 32,
     "metadata": {},
     "output_type": "execute_result"
    }
   ],
   "source": [
    "c1=5+10j\n",
    "c1"
   ]
  },
  {
   "cell_type": "code",
   "execution_count": 33,
   "id": "7234d621-2cc9-4c12-bf0a-90aef5ff3dec",
   "metadata": {},
   "outputs": [
    {
     "data": {
      "text/plain": [
       "(15+30j)"
      ]
     },
     "execution_count": 33,
     "metadata": {},
     "output_type": "execute_result"
    }
   ],
   "source": [
    "c+c1"
   ]
  },
  {
   "cell_type": "code",
   "execution_count": null,
   "id": "586551c5-67f7-47e0-959a-39e1cd8172a2",
   "metadata": {},
   "outputs": [],
   "source": [
    "c*c1 # in multiplication of compelex we dont need to go on depth part bydefault it shows it output"
   ]
  },
  {
   "cell_type": "code",
   "execution_count": 35,
   "id": "a50f634b-65f0-40be-8efb-aea979d8e4a0",
   "metadata": {},
   "outputs": [
    {
     "data": {
      "text/plain": [
       "(10+20j)"
      ]
     },
     "execution_count": 35,
     "metadata": {},
     "output_type": "execute_result"
    }
   ],
   "source": [
    "c2=10+20J\n",
    "c2"
   ]
  },
  {
   "cell_type": "code",
   "execution_count": 36,
   "id": "7da78c89-dd2b-4ce6-9bb5-a06b8ea904e7",
   "metadata": {},
   "outputs": [
    {
     "data": {
      "text/plain": [
       "(10-20j)"
      ]
     },
     "execution_count": 36,
     "metadata": {},
     "output_type": "execute_result"
    }
   ],
   "source": [
    "c2=10+ -20j\n",
    "c2"
   ]
  },
  {
   "cell_type": "code",
   "execution_count": 39,
   "id": "c296e02d-1e43-49f6-bac6-ad6cf4373505",
   "metadata": {},
   "outputs": [
    {
     "data": {
      "text/plain": [
       "(-10+20j)"
      ]
     },
     "execution_count": 39,
     "metadata": {},
     "output_type": "execute_result"
    }
   ],
   "source": [
    "c2=-10+20j\n",
    "c2"
   ]
  },
  {
   "cell_type": "code",
   "execution_count": 40,
   "id": "4bace933-6a5a-4461-8f2b-5320b2d23197",
   "metadata": {},
   "outputs": [
    {
     "data": {
      "text/plain": [
       "(2+34j)"
      ]
     },
     "execution_count": 40,
     "metadata": {},
     "output_type": "execute_result"
    }
   ],
   "source": [
    "c3=2.0+34j\n",
    "c3"
   ]
  },
  {
   "cell_type": "markdown",
   "id": "8cb3bb12-ed3c-4158-a613-1bdf62aae015",
   "metadata": {},
   "source": [
    "# string"
   ]
  },
  {
   "cell_type": "code",
   "execution_count": 41,
   "id": "d79a9d1e-6d29-450d-90f1-1dfedde5811d",
   "metadata": {},
   "outputs": [
    {
     "data": {
      "text/plain": [
       "'generative ai & llm model great career ahead,also it is resaerch domain.'"
      ]
     },
     "execution_count": 41,
     "metadata": {},
     "output_type": "execute_result"
    }
   ],
   "source": [
    "s='generative ai & llm model great career ahead,also it is resaerch domain.'\n",
    "s"
   ]
  },
  {
   "cell_type": "code",
   "execution_count": 42,
   "id": "97b1dc92-58bc-4a42-8acc-91278db2f97c",
   "metadata": {},
   "outputs": [
    {
     "data": {
      "text/plain": [
       "'generative ai & llm model great career ahead,also it is resaerch domain.'"
      ]
     },
     "execution_count": 42,
     "metadata": {},
     "output_type": "execute_result"
    }
   ],
   "source": [
    "s=\"generative ai & llm model great career ahead,also it is resaerch domain.\"\n",
    "s"
   ]
  },
  {
   "cell_type": "code",
   "execution_count": 43,
   "id": "6128c0fb-c31d-4228-ace7-43fe3b4b66e7",
   "metadata": {},
   "outputs": [
    {
     "data": {
      "text/plain": [
       "'generative ai & llm model great career ahead,also it is resaerch domain.'"
      ]
     },
     "execution_count": 43,
     "metadata": {},
     "output_type": "execute_result"
    }
   ],
   "source": [
    "s='''generative ai & llm model great career ahead,also it is resaerch domain.'''\n",
    "s"
   ]
  },
  {
   "cell_type": "markdown",
   "id": "d6531b4f-c2f5-4b1f-b520-7044dceb78eb",
   "metadata": {},
   "source": [
    "# int - value with decimal\n",
    "# float - value with decimal(only e leter is allowed )\n",
    "# bool - True or False\n",
    "# comlex - (a+bj or a+bJ) | a-real part & b - imaginary part| j- square root of -1\n",
    "# string - text which denaotes ' '|| \" \"|| '''  '''(multiline coments)"
   ]
  },
  {
   "cell_type": "code",
   "execution_count": null,
   "id": "96c9a8ac-9bca-4838-9fdc-9ed19a4d00ff",
   "metadata": {},
   "outputs": [],
   "source": []
  },
  {
   "cell_type": "markdown",
   "id": "9ddb12a3-86b9-4832-92eb-528ad4ee9d0c",
   "metadata": {},
   "source": [
    "# type casting or type conversion\n",
    "# we are coverting all other data type to int,float,complex,bool,string"
   ]
  },
  {
   "cell_type": "markdown",
   "id": "cbdc0446-c150-476a-a08e-f29d6cb91013",
   "metadata": {},
   "source": [
    "# int --data type\n",
    "#fam() --fam function with 0 argument\n",
    "#family(dad,mom)-- dad,mom--argument or parameter\n",
    "#family(d,m,s,d)--4 paramete\n",
    "#family function with 2 argument\n",
    "#llm model--llama3 model trained with 405B parameter\n",
    "# u cant not build llm model in cpu & these parameter are very powerful & impact in dl,ml nlp"
   ]
  },
  {
   "cell_type": "code",
   "execution_count": null,
   "id": "46737cea-f52f-42dc-8947-07b16003ddee",
   "metadata": {},
   "outputs": [],
   "source": []
  },
  {
   "cell_type": "code",
   "execution_count": 44,
   "id": "d0a13763-ace7-43d1-a8de-395f5ad69392",
   "metadata": {},
   "outputs": [
    {
     "data": {
      "text/plain": [
       "2"
      ]
     },
     "execution_count": 44,
     "metadata": {},
     "output_type": "execute_result"
    }
   ],
   "source": [
    "int(2.3)"
   ]
  },
  {
   "cell_type": "code",
   "execution_count": 45,
   "id": "bc11ebb2-89b4-4a2f-b173-d1130fb42fba",
   "metadata": {},
   "outputs": [
    {
     "data": {
      "text/plain": [
       "2"
      ]
     },
     "execution_count": 45,
     "metadata": {},
     "output_type": "execute_result"
    }
   ],
   "source": [
    "int(2.7)"
   ]
  },
  {
   "cell_type": "code",
   "execution_count": 46,
   "id": "7d0a81d8-15ac-47fb-8471-0b4373c27060",
   "metadata": {},
   "outputs": [
    {
     "ename": "TypeError",
     "evalue": "'float' object cannot be interpreted as an integer",
     "output_type": "error",
     "traceback": [
      "\u001b[1;31m---------------------------------------------------------------------------\u001b[0m",
      "\u001b[1;31mTypeError\u001b[0m                                 Traceback (most recent call last)",
      "Cell \u001b[1;32mIn[46], line 1\u001b[0m\n\u001b[1;32m----> 1\u001b[0m \u001b[38;5;28mint\u001b[39m(\u001b[38;5;241m2.3\u001b[39m,\u001b[38;5;241m3.7\u001b[39m)\n",
      "\u001b[1;31mTypeError\u001b[0m: 'float' object cannot be interpreted as an integer"
     ]
    }
   ],
   "source": [
    "int(2.3,3.7)"
   ]
  },
  {
   "cell_type": "markdown",
   "id": "0e9ff78a-34ff-4f38-a913-b324b855ff40",
   "metadata": {},
   "source": [
    "# when we pass one data type to other data type we pass only one argument"
   ]
  },
  {
   "cell_type": "code",
   "execution_count": 47,
   "id": "451739c2-96e0-46fe-8670-aabd4f62afd9",
   "metadata": {},
   "outputs": [
    {
     "data": {
      "text/plain": [
       "1"
      ]
     },
     "execution_count": 47,
     "metadata": {},
     "output_type": "execute_result"
    }
   ],
   "source": [
    "int(True)"
   ]
  },
  {
   "cell_type": "code",
   "execution_count": 48,
   "id": "a1fc66e7-53b8-4fbf-be9d-fd4f99dadd95",
   "metadata": {},
   "outputs": [
    {
     "data": {
      "text/plain": [
       "0"
      ]
     },
     "execution_count": 48,
     "metadata": {},
     "output_type": "execute_result"
    }
   ],
   "source": [
    "int(False)"
   ]
  },
  {
   "cell_type": "code",
   "execution_count": 49,
   "id": "41fac231-5272-4379-a8f8-54fb400ab22a",
   "metadata": {},
   "outputs": [
    {
     "data": {
      "text/plain": [
       "10"
      ]
     },
     "execution_count": 49,
     "metadata": {},
     "output_type": "execute_result"
    }
   ],
   "source": [
    "int('10')"
   ]
  },
  {
   "cell_type": "code",
   "execution_count": 50,
   "id": "a7c995fd-9b1d-4805-ae29-083e714dd041",
   "metadata": {},
   "outputs": [
    {
     "ename": "ValueError",
     "evalue": "invalid literal for int() with base 10: 'ten'",
     "output_type": "error",
     "traceback": [
      "\u001b[1;31m---------------------------------------------------------------------------\u001b[0m",
      "\u001b[1;31mValueError\u001b[0m                                Traceback (most recent call last)",
      "Cell \u001b[1;32mIn[50], line 1\u001b[0m\n\u001b[1;32m----> 1\u001b[0m \u001b[38;5;28mint\u001b[39m(\u001b[38;5;124m'\u001b[39m\u001b[38;5;124mten\u001b[39m\u001b[38;5;124m'\u001b[39m)\n",
      "\u001b[1;31mValueError\u001b[0m: invalid literal for int() with base 10: 'ten'"
     ]
    }
   ],
   "source": [
    "int('ten')"
   ]
  },
  {
   "cell_type": "code",
   "execution_count": 51,
   "id": "321f4167-4c14-4829-ba79-8713fda95fa4",
   "metadata": {},
   "outputs": [
    {
     "ename": "TypeError",
     "evalue": "int() argument must be a string, a bytes-like object or a real number, not 'complex'",
     "output_type": "error",
     "traceback": [
      "\u001b[1;31m---------------------------------------------------------------------------\u001b[0m",
      "\u001b[1;31mTypeError\u001b[0m                                 Traceback (most recent call last)",
      "Cell \u001b[1;32mIn[51], line 1\u001b[0m\n\u001b[1;32m----> 1\u001b[0m \u001b[38;5;28mint\u001b[39m(\u001b[38;5;241m1\u001b[39m\u001b[38;5;241m+\u001b[39m\u001b[38;5;241m2\u001b[39mj)\n",
      "\u001b[1;31mTypeError\u001b[0m: int() argument must be a string, a bytes-like object or a real number, not 'complex'"
     ]
    }
   ],
   "source": [
    "int(1+2j)"
   ]
  },
  {
   "cell_type": "markdown",
   "id": "fd0fa800-453e-4f08-9992-baba85982022",
   "metadata": {},
   "source": [
    "# we canot type cast compex to int & rest of the type casting possible(string should be number only)"
   ]
  },
  {
   "cell_type": "code",
   "execution_count": null,
   "id": "08a83ef8-1980-461b-8dff-81f17cf4460e",
   "metadata": {},
   "outputs": [],
   "source": []
  },
  {
   "cell_type": "code",
   "execution_count": 52,
   "id": "357c008f-726f-4f5b-8d80-4a91b6d7a182",
   "metadata": {},
   "outputs": [
    {
     "data": {
      "text/plain": [
       "10.0"
      ]
     },
     "execution_count": 52,
     "metadata": {},
     "output_type": "execute_result"
    }
   ],
   "source": [
    "float(10)"
   ]
  },
  {
   "cell_type": "code",
   "execution_count": 53,
   "id": "f48cdfd1-d381-4529-8273-3d38fe13361b",
   "metadata": {},
   "outputs": [
    {
     "data": {
      "text/plain": [
       "0.0"
      ]
     },
     "execution_count": 53,
     "metadata": {},
     "output_type": "execute_result"
    }
   ],
   "source": [
    "float(False)"
   ]
  },
  {
   "cell_type": "code",
   "execution_count": 54,
   "id": "7df00753-77f5-4ffe-aca4-ad0cc995d7ec",
   "metadata": {},
   "outputs": [
    {
     "data": {
      "text/plain": [
       "20.0"
      ]
     },
     "execution_count": 54,
     "metadata": {},
     "output_type": "execute_result"
    }
   ],
   "source": [
    "float('20')"
   ]
  },
  {
   "cell_type": "code",
   "execution_count": 55,
   "id": "68e41c65-f917-4ce1-bd91-a6c355d233e7",
   "metadata": {},
   "outputs": [
    {
     "ename": "ValueError",
     "evalue": "could not convert string to float: 'twenty'",
     "output_type": "error",
     "traceback": [
      "\u001b[1;31m---------------------------------------------------------------------------\u001b[0m",
      "\u001b[1;31mValueError\u001b[0m                                Traceback (most recent call last)",
      "Cell \u001b[1;32mIn[55], line 1\u001b[0m\n\u001b[1;32m----> 1\u001b[0m \u001b[38;5;28mfloat\u001b[39m(\u001b[38;5;124m'\u001b[39m\u001b[38;5;124mtwenty\u001b[39m\u001b[38;5;124m'\u001b[39m)\n",
      "\u001b[1;31mValueError\u001b[0m: could not convert string to float: 'twenty'"
     ]
    }
   ],
   "source": [
    "float('twenty')"
   ]
  },
  {
   "cell_type": "code",
   "execution_count": 56,
   "id": "a9d2e0b5-4f60-46e7-a6a7-6e11dda523e2",
   "metadata": {},
   "outputs": [
    {
     "ename": "TypeError",
     "evalue": "float() argument must be a string or a real number, not 'complex'",
     "output_type": "error",
     "traceback": [
      "\u001b[1;31m---------------------------------------------------------------------------\u001b[0m",
      "\u001b[1;31mTypeError\u001b[0m                                 Traceback (most recent call last)",
      "Cell \u001b[1;32mIn[56], line 1\u001b[0m\n\u001b[1;32m----> 1\u001b[0m \u001b[38;5;28mfloat\u001b[39m(\u001b[38;5;241m10\u001b[39m\u001b[38;5;241m-\u001b[39m\u001b[38;5;241m20\u001b[39mj)\n",
      "\u001b[1;31mTypeError\u001b[0m: float() argument must be a string or a real number, not 'complex'"
     ]
    }
   ],
   "source": [
    "float(10-20j)"
   ]
  },
  {
   "cell_type": "code",
   "execution_count": 57,
   "id": "967c7a3f-0148-4d52-9627-86cd296650a0",
   "metadata": {},
   "outputs": [
    {
     "name": "stdout",
     "output_type": "stream",
     "text": [
      "True\n",
      "True\n",
      "True\n",
      "True\n",
      "True\n",
      "False\n"
     ]
    }
   ],
   "source": [
    "print(bool(9))\n",
    "print(bool(9.9))\n",
    "print(bool('9'))\n",
    "print(bool(9+9j))\n",
    "print(bool(_))\n",
    "print(bool())"
   ]
  },
  {
   "cell_type": "code",
   "execution_count": 58,
   "id": "b4af6ba4-49b3-4ed7-88a8-4bef7b05bec7",
   "metadata": {},
   "outputs": [
    {
     "name": "stdout",
     "output_type": "stream",
     "text": [
      "False\n"
     ]
    }
   ],
   "source": [
    "print(bool( ))"
   ]
  },
  {
   "cell_type": "markdown",
   "id": "0a450b0c-6148-4ea3-abac-09f9b5337a64",
   "metadata": {},
   "source": [
    "#non zero is false\n",
    "# we can type cast from all other datatype to bool"
   ]
  },
  {
   "cell_type": "code",
   "execution_count": 59,
   "id": "5e171ace-6d1e-43f6-9932-dbc82ad4efc8",
   "metadata": {},
   "outputs": [
    {
     "name": "stdout",
     "output_type": "stream",
     "text": [
      "False\n"
     ]
    }
   ],
   "source": [
    "print(bool(0))"
   ]
  },
  {
   "cell_type": "code",
   "execution_count": 62,
   "id": "0e11a410-dde4-486c-81b8-9c4d8f93b663",
   "metadata": {},
   "outputs": [
    {
     "data": {
      "text/plain": [
       "'2'"
      ]
     },
     "execution_count": 62,
     "metadata": {},
     "output_type": "execute_result"
    }
   ],
   "source": [
    "str(2)"
   ]
  },
  {
   "cell_type": "code",
   "execution_count": 61,
   "id": "b1e810b0-a344-4c07-a87d-1b3a495c6b7d",
   "metadata": {},
   "outputs": [
    {
     "name": "stdout",
     "output_type": "stream",
     "text": [
      "2\n"
     ]
    }
   ],
   "source": [
    "print(str(2))"
   ]
  },
  {
   "cell_type": "code",
   "execution_count": 63,
   "id": "fdba1911-3d31-4b0d-96e1-4d00d26c4b90",
   "metadata": {},
   "outputs": [
    {
     "data": {
      "text/plain": [
       "'2.2'"
      ]
     },
     "execution_count": 63,
     "metadata": {},
     "output_type": "execute_result"
    }
   ],
   "source": [
    "str(2.2)"
   ]
  },
  {
   "cell_type": "code",
   "execution_count": 64,
   "id": "869b4f56-0ffd-47da-9bf3-ec45f439e9b6",
   "metadata": {},
   "outputs": [
    {
     "data": {
      "text/plain": [
       "'True'"
      ]
     },
     "execution_count": 64,
     "metadata": {},
     "output_type": "execute_result"
    }
   ],
   "source": [
    "str(True)"
   ]
  },
  {
   "cell_type": "code",
   "execution_count": 66,
   "id": "313d3e0b-c918-4cfa-8aa4-f55954c04b53",
   "metadata": {},
   "outputs": [
    {
     "data": {
      "text/plain": [
       "'False'"
      ]
     },
     "execution_count": 66,
     "metadata": {},
     "output_type": "execute_result"
    }
   ],
   "source": [
    "str(False)"
   ]
  },
  {
   "cell_type": "code",
   "execution_count": 67,
   "id": "dc044374-669c-40ad-9643-79eeb9be7b00",
   "metadata": {},
   "outputs": [
    {
     "data": {
      "text/plain": [
       "2"
      ]
     },
     "execution_count": 67,
     "metadata": {},
     "output_type": "execute_result"
    }
   ],
   "source": [
    "True+True"
   ]
  },
  {
   "cell_type": "code",
   "execution_count": 68,
   "id": "6e15d7b7-a6da-451c-a693-67e71dfcc406",
   "metadata": {},
   "outputs": [
    {
     "data": {
      "text/plain": [
       "'(10+20j)'"
      ]
     },
     "execution_count": 68,
     "metadata": {},
     "output_type": "execute_result"
    }
   ],
   "source": [
    "str(10+20j)"
   ]
  },
  {
   "cell_type": "markdown",
   "id": "ae756315-fae3-4349-b934-a77704655938",
   "metadata": {},
   "source": [
    "# we can type cast from all other datatype to string"
   ]
  },
  {
   "cell_type": "markdown",
   "id": "fc9bd0f3-12c9-4192-a5d2-8d18b6d0f94c",
   "metadata": {},
   "source": [
    "#27.01.25"
   ]
  },
  {
   "cell_type": "markdown",
   "id": "89c44ed3-e43a-4ac3-8390-11300e1f7cd6",
   "metadata": {},
   "source": [
    "#python data structure\n",
    "   # 1.inbuilt\n",
    "   # 2.userdefined"
   ]
  },
  {
   "cell_type": "markdown",
   "id": "219cffaa-07c7-4735-9d18-4bc7f129e534",
   "metadata": {},
   "source": [
    "#data type-> define of only one value\n",
    "#data structure-> define more than one value\n",
    "#data structure-> collection of data types\n",
    "#matrix-> rows and columns "
   ]
  },
  {
   "cell_type": "markdown",
   "id": "cef5e567-1ec9-4dd0-b4d5-21eaad61b803",
   "metadata": {},
   "source": [
    "List\n",
    " 1.list is a mutable datatype(elements in the list can be changed)\n",
    " 2.list is asequence data type\n",
    " 3.list is denoted by'[]'\n",
    " 4.list is a in-built datastructure\n",
    " 5.list allows multiple data types\n",
    " 6.In list duplicate values are allowed"
   ]
  },
  {
   "cell_type": "code",
   "execution_count": null,
   "id": "550d16e5-2e7a-4884-ac2c-ac31ad22000b",
   "metadata": {},
   "outputs": [],
   "source": [
    "#list ds\n",
    "#empty list"
   ]
  },
  {
   "cell_type": "code",
   "execution_count": 2,
   "id": "6dba22d2-591a-41a2-bab4-9386f4550fc5",
   "metadata": {},
   "outputs": [
    {
     "data": {
      "text/plain": [
       "[]"
      ]
     },
     "execution_count": 2,
     "metadata": {},
     "output_type": "execute_result"
    }
   ],
   "source": [
    "l=[]\n",
    "l"
   ]
  },
  {
   "cell_type": "code",
   "execution_count": 6,
   "id": "7dc10b60-2e90-4cbd-9bc6-20662e3c19ce",
   "metadata": {},
   "outputs": [
    {
     "data": {
      "text/plain": [
       "list"
      ]
     },
     "execution_count": 6,
     "metadata": {},
     "output_type": "execute_result"
    }
   ],
   "source": [
    "type(l)"
   ]
  },
  {
   "cell_type": "code",
   "execution_count": 1,
   "id": "cfa12858-b8de-4da8-bc27-64da7bc0b051",
   "metadata": {},
   "outputs": [
    {
     "data": {
      "text/plain": [
       "[1, 2.5, 'jack', True, (1+5j)]"
      ]
     },
     "execution_count": 1,
     "metadata": {},
     "output_type": "execute_result"
    }
   ],
   "source": [
    "l=[1,2.5,'jack',True,(1+5j)]\n",
    "l"
   ]
  },
  {
   "cell_type": "code",
   "execution_count": null,
   "id": "530315aa-2f6a-4368-b1e8-3cee1853dc1d",
   "metadata": {},
   "outputs": [],
   "source": [
    "#append() -> adds an elements to the end of the list\n",
    "# l.append()-> add the element or value at last\n",
    "#append pass only one argument"
   ]
  },
  {
   "cell_type": "code",
   "execution_count": 2,
   "id": "f40d58c5-d374-424a-a515-a820acc44f4d",
   "metadata": {},
   "outputs": [
    {
     "data": {
      "text/plain": [
       "[1, 2.5, 'jack', True, (1+5j), 10]"
      ]
     },
     "execution_count": 2,
     "metadata": {},
     "output_type": "execute_result"
    }
   ],
   "source": [
    "l.append(10)\n",
    "l"
   ]
  },
  {
   "cell_type": "code",
   "execution_count": 3,
   "id": "d020799b-c4c7-4e85-a57a-299751a9c628",
   "metadata": {},
   "outputs": [
    {
     "data": {
      "text/plain": [
       "[1, 2.5, 'jack', True, (1+5j), 10, 20]"
      ]
     },
     "execution_count": 3,
     "metadata": {},
     "output_type": "execute_result"
    }
   ],
   "source": [
    "l.append(20)\n",
    "l"
   ]
  },
  {
   "cell_type": "code",
   "execution_count": 4,
   "id": "410ca5b8-e0cd-41e0-9ddc-5e8c551fff80",
   "metadata": {},
   "outputs": [
    {
     "ename": "TypeError",
     "evalue": "list.append() takes exactly one argument (3 given)",
     "output_type": "error",
     "traceback": [
      "\u001b[1;31m---------------------------------------------------------------------------\u001b[0m",
      "\u001b[1;31mTypeError\u001b[0m                                 Traceback (most recent call last)",
      "Cell \u001b[1;32mIn[4], line 1\u001b[0m\n\u001b[1;32m----> 1\u001b[0m l\u001b[38;5;241m.\u001b[39mappend(\u001b[38;5;241m10\u001b[39m,\u001b[38;5;241m20\u001b[39m,\u001b[38;5;241m30\u001b[39m)\n",
      "\u001b[1;31mTypeError\u001b[0m: list.append() takes exactly one argument (3 given)"
     ]
    }
   ],
   "source": [
    "l.append(10,20,30) #pass only one argument thats why it gives error"
   ]
  },
  {
   "cell_type": "code",
   "execution_count": 6,
   "id": "7087f836-f805-43d1-bfec-790d9a90e9f0",
   "metadata": {},
   "outputs": [
    {
     "data": {
      "text/plain": [
       "7"
      ]
     },
     "execution_count": 6,
     "metadata": {},
     "output_type": "execute_result"
    }
   ],
   "source": [
    "len(l)"
   ]
  },
  {
   "cell_type": "code",
   "execution_count": 10,
   "id": "24da89b6-69be-4f44-9ae4-0f0968576d64",
   "metadata": {},
   "outputs": [
    {
     "data": {
      "text/plain": [
       "[10, 10, 10, 20, 30, 40]"
      ]
     },
     "execution_count": 10,
     "metadata": {},
     "output_type": "execute_result"
    }
   ],
   "source": [
    "l.append(10)\n",
    "l.append(20)\n",
    "l.append(30)\n",
    "l.append(40)\n",
    "l"
   ]
  },
  {
   "cell_type": "code",
   "execution_count": 11,
   "id": "d5c1fb43-89fa-407c-acd9-44f619cff4c6",
   "metadata": {},
   "outputs": [
    {
     "name": "stdout",
     "output_type": "stream",
     "text": [
      "[1, 2.2, (1+2j), True, [1, 2, 3]]\n"
     ]
    }
   ],
   "source": [
    "l1=[]\n",
    "l1\n",
    "l1.append(1)\n",
    "l1.append(2.2)\n",
    "l1.append(1+2j)\n",
    "l1.append(True)\n",
    "l1.append([1,2,3])\n",
    "print(l1)"
   ]
  },
  {
   "cell_type": "code",
   "execution_count": 12,
   "id": "5ca7b3d1-5820-4c9c-a3ab-2b0d93e9aaa7",
   "metadata": {},
   "outputs": [
    {
     "name": "stdout",
     "output_type": "stream",
     "text": [
      "1826005359168\n"
     ]
    }
   ],
   "source": [
    "print(id(l1))"
   ]
  },
  {
   "cell_type": "code",
   "execution_count": null,
   "id": "bd44a0f0-6615-4c70-a938-33993bef74a2",
   "metadata": {},
   "outputs": [],
   "source": [
    "#copy() -> copy list or returns a shallow copy of the list."
   ]
  },
  {
   "cell_type": "code",
   "execution_count": 14,
   "id": "f4a9ec02-59af-414b-80f9-5c68aef9bc65",
   "metadata": {},
   "outputs": [
    {
     "data": {
      "text/plain": [
       "[1, 2.2, (1+2j), True, [1, 2, 3]]"
      ]
     },
     "execution_count": 14,
     "metadata": {},
     "output_type": "execute_result"
    }
   ],
   "source": [
    "l2=l1.copy()  #copies the list as mentioned\n",
    "l2"
   ]
  },
  {
   "cell_type": "code",
   "execution_count": 15,
   "id": "5527ab5a-9fc7-4e1d-9bba-9be4725bf987",
   "metadata": {},
   "outputs": [
    {
     "data": {
      "text/plain": [
       "True"
      ]
     },
     "execution_count": 15,
     "metadata": {},
     "output_type": "execute_result"
    }
   ],
   "source": [
    "l1==l2"
   ]
  },
  {
   "cell_type": "code",
   "execution_count": null,
   "id": "a9de4945-5118-49a5-99e9-be2d0967c502",
   "metadata": {},
   "outputs": [],
   "source": [
    "#list inside list - nested list\n",
    "#for inside for loop-nested for"
   ]
  },
  {
   "cell_type": "code",
   "execution_count": 17,
   "id": "7778868b-b294-4a32-82b0-54bf6d69975b",
   "metadata": {},
   "outputs": [
    {
     "data": {
      "text/plain": [
       "False"
      ]
     },
     "execution_count": 17,
     "metadata": {},
     "output_type": "execute_result"
    }
   ],
   "source": [
    "l1==l"
   ]
  },
  {
   "cell_type": "code",
   "execution_count": 18,
   "id": "6bc635de-7346-4396-b251-caa32e055601",
   "metadata": {},
   "outputs": [
    {
     "data": {
      "text/plain": [
       "False"
      ]
     },
     "execution_count": 18,
     "metadata": {},
     "output_type": "execute_result"
    }
   ],
   "source": [
    "l==l1==l2"
   ]
  },
  {
   "cell_type": "code",
   "execution_count": 23,
   "id": "2d1d173b-ce50-4e99-9c1f-02ee0348234e",
   "metadata": {},
   "outputs": [
    {
     "data": {
      "text/plain": [
       "True"
      ]
     },
     "execution_count": 23,
     "metadata": {},
     "output_type": "execute_result"
    }
   ],
   "source": [
    "l!=l1"
   ]
  },
  {
   "cell_type": "code",
   "execution_count": 25,
   "id": "6dabf623-c2f8-4444-9998-ec8b9149009f",
   "metadata": {},
   "outputs": [
    {
     "name": "stdout",
     "output_type": "stream",
     "text": [
      "[2.2, (1+2j), True, [1, 2, 3]]\n",
      "[1, 2.2, (1+2j), True, [1, 2, 3]]\n"
     ]
    }
   ],
   "source": [
    "print(l1)\n",
    "print(l2)"
   ]
  },
  {
   "cell_type": "code",
   "execution_count": 26,
   "id": "09a4212e-cbec-453e-94b1-7da5c7908a26",
   "metadata": {},
   "outputs": [
    {
     "name": "stdout",
     "output_type": "stream",
     "text": [
      "1826005359168\n",
      "1826006585664\n"
     ]
    },
    {
     "data": {
      "text/plain": [
       "True"
      ]
     },
     "execution_count": 26,
     "metadata": {},
     "output_type": "execute_result"
    }
   ],
   "source": [
    "print(id(l1))==print(id(l2))"
   ]
  },
  {
   "cell_type": "code",
   "execution_count": 27,
   "id": "a98e7e1e-9e4d-43d7-a6c0-476bb4a7a0ca",
   "metadata": {},
   "outputs": [
    {
     "name": "stdout",
     "output_type": "stream",
     "text": [
      "140731099327000\n",
      "140731099327000\n"
     ]
    },
    {
     "data": {
      "text/plain": [
       "True"
      ]
     },
     "execution_count": 27,
     "metadata": {},
     "output_type": "execute_result"
    }
   ],
   "source": [
    "a=4\n",
    "b=4\n",
    "print(id(a))==print(id(b))"
   ]
  },
  {
   "cell_type": "markdown",
   "id": "35833cb1-b33f-4fe5-8906-8d7fa057424b",
   "metadata": {},
   "source": [
    "#remove() -> removes first element from the  list or removes the first occurence of a specified element."
   ]
  },
  {
   "cell_type": "code",
   "execution_count": 12,
   "id": "9bc31fd0-97af-4dda-b8d8-f4aaebb4ce8e",
   "metadata": {},
   "outputs": [
    {
     "ename": "TypeError",
     "evalue": "list.remove() takes exactly one argument (0 given)",
     "output_type": "error",
     "traceback": [
      "\u001b[1;31m---------------------------------------------------------------------------\u001b[0m",
      "\u001b[1;31mTypeError\u001b[0m                                 Traceback (most recent call last)",
      "Cell \u001b[1;32mIn[12], line 1\u001b[0m\n\u001b[1;32m----> 1\u001b[0m l\u001b[38;5;241m.\u001b[39mremove()\n",
      "\u001b[1;31mTypeError\u001b[0m: list.remove() takes exactly one argument (0 given)"
     ]
    }
   ],
   "source": [
    "l.remove() # pass one argument but here 0 argument thats why error"
   ]
  },
  {
   "cell_type": "code",
   "execution_count": 19,
   "id": "b11dc61c-33ac-4b1c-a983-ae692f46f625",
   "metadata": {},
   "outputs": [
    {
     "data": {
      "text/plain": [
       "[2.2, (1+2j), True, [1, 2, 3]]"
      ]
     },
     "execution_count": 19,
     "metadata": {},
     "output_type": "execute_result"
    }
   ],
   "source": [
    "l1.remove(1)\n",
    "l1"
   ]
  },
  {
   "cell_type": "markdown",
   "id": "772b4d96-1980-44d1-873d-67a1ba85be4c",
   "metadata": {},
   "source": [
    "# list indexing and slicing\n",
    "   # String indexing\n",
    "     .Forward indexing-> count from left to right(0 to 9 upto...)\n",
    "     .Backward indexing->count from right to left(-1 to -9 upto)"
   ]
  },
  {
   "cell_type": "code",
   "execution_count": 28,
   "id": "261af27f-575a-4b15-8698-9969fa7e0c70",
   "metadata": {},
   "outputs": [
    {
     "data": {
      "text/plain": [
       "'nareshit'"
      ]
     },
     "execution_count": 28,
     "metadata": {},
     "output_type": "execute_result"
    }
   ],
   "source": [
    "s7='nareshit'\n",
    "s7"
   ]
  },
  {
   "cell_type": "code",
   "execution_count": 29,
   "id": "439ffa3b-44c4-440b-9a9c-991d8f56d95b",
   "metadata": {},
   "outputs": [
    {
     "data": {
      "text/plain": [
       "'n'"
      ]
     },
     "execution_count": 29,
     "metadata": {},
     "output_type": "execute_result"
    }
   ],
   "source": [
    "s7[0]"
   ]
  },
  {
   "cell_type": "code",
   "execution_count": 30,
   "id": "04923778-ac0f-44ba-911c-c30050dfd588",
   "metadata": {},
   "outputs": [
    {
     "data": {
      "text/plain": [
       "'a'"
      ]
     },
     "execution_count": 30,
     "metadata": {},
     "output_type": "execute_result"
    }
   ],
   "source": [
    "s7[1]"
   ]
  },
  {
   "cell_type": "code",
   "execution_count": 31,
   "id": "9617bc13-9300-4f37-af41-9e0a45d8d68d",
   "metadata": {},
   "outputs": [
    {
     "ename": "IndexError",
     "evalue": "string index out of range",
     "output_type": "error",
     "traceback": [
      "\u001b[1;31m---------------------------------------------------------------------------\u001b[0m",
      "\u001b[1;31mIndexError\u001b[0m                                Traceback (most recent call last)",
      "Cell \u001b[1;32mIn[31], line 1\u001b[0m\n\u001b[1;32m----> 1\u001b[0m s7[\u001b[38;5;241m9\u001b[39m]\n",
      "\u001b[1;31mIndexError\u001b[0m: string index out of range"
     ]
    }
   ],
   "source": [
    "s7[9]"
   ]
  },
  {
   "cell_type": "code",
   "execution_count": 32,
   "id": "ce2ae44a-8127-4954-9972-b074bb735267",
   "metadata": {},
   "outputs": [
    {
     "data": {
      "text/plain": [
       "'h'"
      ]
     },
     "execution_count": 32,
     "metadata": {},
     "output_type": "execute_result"
    }
   ],
   "source": [
    "s7[-3]"
   ]
  },
  {
   "cell_type": "code",
   "execution_count": 33,
   "id": "bccb5a7d-0451-4f8c-bf13-1d180bc6e481",
   "metadata": {},
   "outputs": [
    {
     "name": "stdout",
     "output_type": "stream",
     "text": [
      "n\n",
      "a\n",
      "r\n",
      "e\n",
      "s\n",
      "h\n",
      "i\n",
      "t\n"
     ]
    }
   ],
   "source": [
    "for i in s7:\n",
    "    print(i)"
   ]
  },
  {
   "cell_type": "markdown",
   "id": "bf203a2c-ad45-4636-8272-e4b2d5b5be4f",
   "metadata": {},
   "source": [
    "# Slicing\n",
    "  slicing defines with [:]\n",
    "  slicing are 3 types-> \n",
    "     1.forward slicing\n",
    "     2.backward slicing\n",
    "     3.step slicing"
   ]
  },
  {
   "cell_type": "code",
   "execution_count": null,
   "id": "62214885-945a-48b1-b93d-a9156688bce4",
   "metadata": {},
   "outputs": [],
   "source": [
    "#Forward slicing\n",
    " [2:7]--> here 2 is left indexing and 7 is right indexing.\n",
    " 2nd index: (n-1) formula right index(7-1), output will print as 2th to 6th."
   ]
  },
  {
   "cell_type": "code",
   "execution_count": null,
   "id": "8eee5700-871d-438f-ac90-adf850ddbf41",
   "metadata": {},
   "outputs": [],
   "source": [
    "#Backward slicing\n",
    "  [-7-1]-->here left indexing is -7 so apply n-1 formula -7:-1-1 ==-7:-2 p/o:- -7,-6,-5,-4,-3,-2 "
   ]
  },
  {
   "cell_type": "code",
   "execution_count": 34,
   "id": "58be6bcf-612e-4312-8c58-32392047cee4",
   "metadata": {},
   "outputs": [
    {
     "data": {
      "text/plain": [
       "'nareshit'"
      ]
     },
     "execution_count": 34,
     "metadata": {},
     "output_type": "execute_result"
    }
   ],
   "source": [
    "s9='nareshit'\n",
    "s9"
   ]
  },
  {
   "cell_type": "code",
   "execution_count": 35,
   "id": "727365c8-d084-42fa-803a-8b2de2fa424a",
   "metadata": {},
   "outputs": [
    {
     "data": {
      "text/plain": [
       "'nareshit'"
      ]
     },
     "execution_count": 35,
     "metadata": {},
     "output_type": "execute_result"
    }
   ],
   "source": [
    "s9[0:9]\n",
    "s9"
   ]
  },
  {
   "cell_type": "code",
   "execution_count": 36,
   "id": "04bf9a18-9339-4a49-a0f6-248f6b181384",
   "metadata": {},
   "outputs": [
    {
     "data": {
      "text/plain": [
       "'areshit'"
      ]
     },
     "execution_count": 36,
     "metadata": {},
     "output_type": "execute_result"
    }
   ],
   "source": [
    "s9[1:8]"
   ]
  },
  {
   "cell_type": "code",
   "execution_count": 37,
   "id": "8f50969b-a6f7-4a72-9573-1a8d614b7c4b",
   "metadata": {},
   "outputs": [
    {
     "data": {
      "text/plain": [
       "'ares'"
      ]
     },
     "execution_count": 37,
     "metadata": {},
     "output_type": "execute_result"
    }
   ],
   "source": [
    "s9[1:-3]"
   ]
  },
  {
   "cell_type": "code",
   "execution_count": 38,
   "id": "8263fe3e-0904-423b-92fa-df5a1199b21f",
   "metadata": {},
   "outputs": [
    {
     "data": {
      "text/plain": [
       "'are'"
      ]
     },
     "execution_count": 38,
     "metadata": {},
     "output_type": "execute_result"
    }
   ],
   "source": [
    "s9[1:-4]"
   ]
  },
  {
   "cell_type": "code",
   "execution_count": null,
   "id": "a63bb4de-7e2d-4eff-9853-51d4341ffaa7",
   "metadata": {},
   "outputs": [],
   "source": [
    "#Step slicing"
   ]
  },
  {
   "cell_type": "code",
   "execution_count": 45,
   "id": "045f0df4-fe7c-4200-87f5-a16cb238b150",
   "metadata": {},
   "outputs": [
    {
     "name": "stdout",
     "output_type": "stream",
     "text": [
      "[1, 2, 3, 4, 5, 6, 7, 8, 9, 10]\n"
     ]
    }
   ],
   "source": [
    "step_indexing=[1,2,3,4,5,6,7,8,9,10]\n",
    "print(step_indexing)"
   ]
  },
  {
   "cell_type": "code",
   "execution_count": 42,
   "id": "83cd6b0e-be13-4cd3-ac22-db8327d7a4c3",
   "metadata": {},
   "outputs": [
    {
     "data": {
      "text/plain": [
       "[1, 5, 9]"
      ]
     },
     "execution_count": 42,
     "metadata": {},
     "output_type": "execute_result"
    }
   ],
   "source": [
    "step_indexing=[1,2,3,4,5,6,7,8,9,10]\n",
    "step_indexing[0:10:4]"
   ]
  },
  {
   "cell_type": "code",
   "execution_count": 46,
   "id": "6bb3e8bc-af8c-4dee-863b-fab42d7c9b30",
   "metadata": {},
   "outputs": [
    {
     "data": {
      "text/plain": [
       "[2, 4, 6]"
      ]
     },
     "execution_count": 46,
     "metadata": {},
     "output_type": "execute_result"
    }
   ],
   "source": [
    "step_indexing[1:7:2]"
   ]
  },
  {
   "cell_type": "code",
   "execution_count": 18,
   "id": "7e0f1963-02ad-430c-9f04-20d305ab4313",
   "metadata": {},
   "outputs": [
    {
     "data": {
      "text/plain": [
       "[1, 2, 3, 4, 5, 6, 7, 8, 9, 10]"
      ]
     },
     "execution_count": 18,
     "metadata": {},
     "output_type": "execute_result"
    }
   ],
   "source": [
    "step_indexing[:] #empty slice means all elements will print."
   ]
  },
  {
   "cell_type": "code",
   "execution_count": 49,
   "id": "1b2626f8-d684-44fb-a327-e2e0548a80e8",
   "metadata": {},
   "outputs": [
    {
     "data": {
      "text/plain": [
       "[10, 20, 30, 40, 50]"
      ]
     },
     "execution_count": 49,
     "metadata": {},
     "output_type": "execute_result"
    }
   ],
   "source": [
    "l=[10,20,30,40,50]\n",
    "l"
   ]
  },
  {
   "cell_type": "code",
   "execution_count": 50,
   "id": "3fea8ec9-5f40-4f85-bc42-49a809124b20",
   "metadata": {},
   "outputs": [
    {
     "data": {
      "text/plain": [
       "[50, 40, 30, 20, 10]"
      ]
     },
     "execution_count": 50,
     "metadata": {},
     "output_type": "execute_result"
    }
   ],
   "source": [
    "l.reverse()  # reverse method will print values in reverse order of the string\n",
    "l"
   ]
  },
  {
   "cell_type": "code",
   "execution_count": 51,
   "id": "0f70d38a-a4c5-413b-837b-bdca7b452621",
   "metadata": {},
   "outputs": [
    {
     "name": "stdout",
     "output_type": "stream",
     "text": [
      "2\n"
     ]
    }
   ],
   "source": [
    "t=6\n",
    "r=3\n",
    "print(t // r)"
   ]
  },
  {
   "cell_type": "markdown",
   "id": "d88fb63f-086f-4043-a640-ad6e06611ef1",
   "metadata": {},
   "source": [
    "# this is my `first comment`\n",
    "## this is my second comment\n",
    "### this is my third commment"
   ]
  },
  {
   "cell_type": "markdown",
   "id": "73bc853a-cf52-4f86-83df-f3a6bb2a0d15",
   "metadata": {},
   "source": [
    "- plus(+)\n",
    "- -\n",
    "- *\n",
    "- ?"
   ]
  },
  {
   "cell_type": "markdown",
   "id": "4f3b7803-53f4-450c-a63c-1249fff06917",
   "metadata": {},
   "source": [
    "##28.01.25"
   ]
  },
  {
   "cell_type": "markdown",
   "id": "4fc86bf1-1e05-40ed-9c0d-609051ea4947",
   "metadata": {},
   "source": [
    "##Python Basics"
   ]
  },
  {
   "cell_type": "code",
   "execution_count": 1,
   "id": "baa2b3f1-2d37-4a17-a785-8e8c6c38a501",
   "metadata": {},
   "outputs": [
    {
     "data": {
      "text/plain": [
       "2"
      ]
     },
     "execution_count": 1,
     "metadata": {},
     "output_type": "execute_result"
    }
   ],
   "source": [
    "1+1 #addition"
   ]
  },
  {
   "cell_type": "code",
   "execution_count": 2,
   "id": "52cacfce-56f0-435a-b307-9eb25421dce7",
   "metadata": {},
   "outputs": [
    {
     "data": {
      "text/plain": [
       "1"
      ]
     },
     "execution_count": 2,
     "metadata": {},
     "output_type": "execute_result"
    }
   ],
   "source": [
    "2-1 #subtraction"
   ]
  },
  {
   "cell_type": "code",
   "execution_count": 3,
   "id": "637566f9-d5d0-4deb-9207-afb3cb5f422b",
   "metadata": {},
   "outputs": [
    {
     "data": {
      "text/plain": [
       "12"
      ]
     },
     "execution_count": 3,
     "metadata": {},
     "output_type": "execute_result"
    }
   ],
   "source": [
    "3*4 #multiplication"
   ]
  },
  {
   "cell_type": "code",
   "execution_count": 4,
   "id": "f0137d86-ec1d-4156-b3ca-5513df25e0a5",
   "metadata": {},
   "outputs": [
    {
     "data": {
      "text/plain": [
       "2.0"
      ]
     },
     "execution_count": 4,
     "metadata": {},
     "output_type": "execute_result"
    }
   ],
   "source": [
    "4/2 #float division"
   ]
  },
  {
   "cell_type": "code",
   "execution_count": 5,
   "id": "73122deb-6330-4834-a725-2a84be89995a",
   "metadata": {},
   "outputs": [
    {
     "data": {
      "text/plain": [
       "5"
      ]
     },
     "execution_count": 5,
     "metadata": {},
     "output_type": "execute_result"
    }
   ],
   "source": [
    "10//2 #integer division"
   ]
  },
  {
   "cell_type": "code",
   "execution_count": 6,
   "id": "7c125aef-3eb8-4b76-b4aa-ed69dfcc6fd7",
   "metadata": {},
   "outputs": [
    {
     "data": {
      "text/plain": [
       "10"
      ]
     },
     "execution_count": 6,
     "metadata": {},
     "output_type": "execute_result"
    }
   ],
   "source": [
    "8+9-7"
   ]
  },
  {
   "cell_type": "code",
   "execution_count": 7,
   "id": "ccc4db64-7bef-401d-b5ea-a2f4d0bc7214",
   "metadata": {},
   "outputs": [
    {
     "ename": "SyntaxError",
     "evalue": "invalid syntax (3994078272.py, line 1)",
     "output_type": "error",
     "traceback": [
      "\u001b[1;36m  Cell \u001b[1;32mIn[7], line 1\u001b[1;36m\u001b[0m\n\u001b[1;33m    8+8- #syntax error\u001b[0m\n\u001b[1;37m         ^\u001b[0m\n\u001b[1;31mSyntaxError\u001b[0m\u001b[1;31m:\u001b[0m invalid syntax\n"
     ]
    }
   ],
   "source": [
    "8+8- #syntax error"
   ]
  },
  {
   "cell_type": "code",
   "execution_count": 8,
   "id": "92da3aa2-c509-4ff0-a8d0-fc44cc9f53b5",
   "metadata": {},
   "outputs": [
    {
     "data": {
      "text/plain": [
       "30"
      ]
     },
     "execution_count": 8,
     "metadata": {},
     "output_type": "execute_result"
    }
   ],
   "source": [
    "5+5*5"
   ]
  },
  {
   "cell_type": "code",
   "execution_count": 9,
   "id": "5fd319e3-eb3a-43fb-a843-c228f14e0e55",
   "metadata": {},
   "outputs": [
    {
     "data": {
      "text/plain": [
       "50"
      ]
     },
     "execution_count": 9,
     "metadata": {},
     "output_type": "execute_result"
    }
   ],
   "source": [
    "(5+5)*5 #(Bracket||orders||divide||multiply||add||substract)"
   ]
  },
  {
   "cell_type": "code",
   "execution_count": 10,
   "id": "b1c1231b-9ce3-46dc-a419-f36deb9ba2fa",
   "metadata": {},
   "outputs": [
    {
     "data": {
      "text/plain": [
       "64"
      ]
     },
     "execution_count": 10,
     "metadata": {},
     "output_type": "execute_result"
    }
   ],
   "source": [
    "2*2*2*2*2*2 #exponential"
   ]
  },
  {
   "cell_type": "code",
   "execution_count": 13,
   "id": "15a3b193-4559-4d35-8b88-74a752361b5f",
   "metadata": {},
   "outputs": [
    {
     "data": {
      "text/plain": [
       "64"
      ]
     },
     "execution_count": 13,
     "metadata": {},
     "output_type": "execute_result"
    }
   ],
   "source": [
    "2**6 #exponential"
   ]
  },
  {
   "cell_type": "code",
   "execution_count": 14,
   "id": "056358db-7ce4-4fbf-8514-90fbaea57c67",
   "metadata": {},
   "outputs": [
    {
     "data": {
      "text/plain": [
       "10"
      ]
     },
     "execution_count": 14,
     "metadata": {},
     "output_type": "execute_result"
    }
   ],
   "source": [
    "2*5"
   ]
  },
  {
   "cell_type": "code",
   "execution_count": 15,
   "id": "5ce219a6-8374-4d4e-8adb-be3950d840f5",
   "metadata": {},
   "outputs": [
    {
     "data": {
      "text/plain": [
       "1"
      ]
     },
     "execution_count": 15,
     "metadata": {},
     "output_type": "execute_result"
    }
   ],
   "source": [
    "15 % 2  #modulus"
   ]
  },
  {
   "cell_type": "code",
   "execution_count": 16,
   "id": "dfb06cd8-75c6-4bdd-97c9-292d5e4b326c",
   "metadata": {},
   "outputs": [
    {
     "data": {
      "text/plain": [
       "0"
      ]
     },
     "execution_count": 16,
     "metadata": {},
     "output_type": "execute_result"
    }
   ],
   "source": [
    "10 % 2"
   ]
  },
  {
   "cell_type": "code",
   "execution_count": 17,
   "id": "0e80dcc4-ad4f-4359-9237-e83b5cc2943a",
   "metadata": {},
   "outputs": [
    {
     "ename": "SyntaxError",
     "evalue": "invalid syntax (1768330815.py, line 1)",
     "output_type": "error",
     "traceback": [
      "\u001b[1;36m  Cell \u001b[1;32mIn[17], line 1\u001b[1;36m\u001b[0m\n\u001b[1;33m    15 %% 2\u001b[0m\n\u001b[1;37m        ^\u001b[0m\n\u001b[1;31mSyntaxError\u001b[0m\u001b[1;31m:\u001b[0m invalid syntax\n"
     ]
    }
   ],
   "source": [
    "15 %% 2"
   ]
  },
  {
   "cell_type": "code",
   "execution_count": 18,
   "id": "f728cd17-afd4-43f4-b67c-9b3f5cc55344",
   "metadata": {},
   "outputs": [
    {
     "ename": "TypeError",
     "evalue": "unsupported operand type(s) for +: 'int' and 'str'",
     "output_type": "error",
     "traceback": [
      "\u001b[1;31m---------------------------------------------------------------------------\u001b[0m",
      "\u001b[1;31mTypeError\u001b[0m                                 Traceback (most recent call last)",
      "Cell \u001b[1;32mIn[18], line 1\u001b[0m\n\u001b[1;32m----> 1\u001b[0m \u001b[38;5;241m3\u001b[39m \u001b[38;5;241m+\u001b[39m \u001b[38;5;124m'\u001b[39m\u001b[38;5;124mnit\u001b[39m\u001b[38;5;124m'\u001b[39m\n",
      "\u001b[1;31mTypeError\u001b[0m: unsupported operand type(s) for +: 'int' and 'str'"
     ]
    }
   ],
   "source": [
    "3 + 'nit' #you can not add integer with string"
   ]
  },
  {
   "cell_type": "code",
   "execution_count": 19,
   "id": "ddc79ea1-5f30-4bcb-8e62-74b9d363e0d2",
   "metadata": {},
   "outputs": [
    {
     "data": {
      "text/plain": [
       "'nitnitnit'"
      ]
     },
     "execution_count": 19,
     "metadata": {},
     "output_type": "execute_result"
    }
   ],
   "source": [
    "3*'nit'"
   ]
  },
  {
   "cell_type": "code",
   "execution_count": 21,
   "id": "3287c314-7211-4788-9100-20542795bece",
   "metadata": {},
   "outputs": [
    {
     "data": {
      "text/plain": [
       "' nit nit nit'"
      ]
     },
     "execution_count": 21,
     "metadata": {},
     "output_type": "execute_result"
    }
   ],
   "source": [
    "3*' nit'"
   ]
  },
  {
   "cell_type": "code",
   "execution_count": 22,
   "id": "4dc6bb61-7181-44ef-a7e2-633de9a8d1d1",
   "metadata": {},
   "outputs": [
    {
     "name": "stdout",
     "output_type": "stream",
     "text": [
      "15\n",
      "7.8\n",
      "nit\n",
      "(8+9j)\n",
      "True\n"
     ]
    }
   ],
   "source": [
    "a,b,c,d,e=15,7.8,'nit',8+9j,True\n",
    "print(a)\n",
    "print(b)\n",
    "print(c)\n",
    "print(d)\n",
    "print(e)"
   ]
  },
  {
   "cell_type": "code",
   "execution_count": 23,
   "id": "e83d9107-b43a-457b-9e2b-a9592e773dc2",
   "metadata": {},
   "outputs": [
    {
     "name": "stdout",
     "output_type": "stream",
     "text": [
      "<class 'int'>\n",
      "<class 'float'>\n",
      "<class 'str'>\n",
      "<class 'complex'>\n",
      "<class 'bool'>\n"
     ]
    }
   ],
   "source": [
    "print(type(a))\n",
    "print(type(b))\n",
    "print(type(c))\n",
    "print(type(d))\n",
    "print(type(e))"
   ]
  },
  {
   "cell_type": "code",
   "execution_count": 24,
   "id": "db050354-1f77-474e-8d0f-d1373989cd7d",
   "metadata": {},
   "outputs": [
    {
     "data": {
      "text/plain": [
       "'Naresh IT'"
      ]
     },
     "execution_count": 24,
     "metadata": {},
     "output_type": "execute_result"
    }
   ],
   "source": [
    "'Naresh IT'"
   ]
  },
  {
   "cell_type": "code",
   "execution_count": 25,
   "id": "26c89529-b77f-4163-aa66-2ace988e9cf1",
   "metadata": {},
   "outputs": [
    {
     "name": "stdout",
     "output_type": "stream",
     "text": [
      "Max it\n"
     ]
    }
   ],
   "source": [
    "print('Max it')"
   ]
  },
  {
   "cell_type": "code",
   "execution_count": 26,
   "id": "36aee177-7a52-42d9-a227-5b1b415ffa3f",
   "metadata": {},
   "outputs": [
    {
     "data": {
      "text/plain": [
       "'max it technology'"
      ]
     },
     "execution_count": 26,
     "metadata": {},
     "output_type": "execute_result"
    }
   ],
   "source": [
    "\"max it technology\""
   ]
  },
  {
   "cell_type": "code",
   "execution_count": 27,
   "id": "f4103c6a-c9eb-43da-925b-db41a91d12a7",
   "metadata": {},
   "outputs": [
    {
     "data": {
      "text/plain": [
       "'max it technology'"
      ]
     },
     "execution_count": 27,
     "metadata": {},
     "output_type": "execute_result"
    }
   ],
   "source": [
    "s1='max it technology'\n",
    "s1"
   ]
  },
  {
   "cell_type": "code",
   "execution_count": 28,
   "id": "b9202cda-a4af-4557-ac50-a28c01d51471",
   "metadata": {},
   "outputs": [
    {
     "data": {
      "text/plain": [
       "5"
      ]
     },
     "execution_count": 28,
     "metadata": {},
     "output_type": "execute_result"
    }
   ],
   "source": [
    "a=2\n",
    "b=3\n",
    "a+b"
   ]
  },
  {
   "cell_type": "code",
   "execution_count": 29,
   "id": "ad16c48a-1f3b-495e-86cf-b872f14e5df3",
   "metadata": {},
   "outputs": [
    {
     "data": {
      "text/plain": [
       "5"
      ]
     },
     "execution_count": 29,
     "metadata": {},
     "output_type": "execute_result"
    }
   ],
   "source": [
    "c=a+b\n",
    "c"
   ]
  },
  {
   "cell_type": "code",
   "execution_count": 30,
   "id": "7cb665ea-e3b3-441d-a240-996585751c07",
   "metadata": {},
   "outputs": [
    {
     "data": {
      "text/plain": [
       "str"
      ]
     },
     "execution_count": 30,
     "metadata": {},
     "output_type": "execute_result"
    }
   ],
   "source": [
    "a=3\n",
    "b='hi'\n",
    "type(b)"
   ]
  },
  {
   "cell_type": "code",
   "execution_count": 31,
   "id": "a694cee9-8702-4f81-ae44-fc54ed06252e",
   "metadata": {},
   "outputs": [
    {
     "ename": "SyntaxError",
     "evalue": "unterminated string literal (detected at line 1) (1982128230.py, line 1)",
     "output_type": "error",
     "traceback": [
      "\u001b[1;36m  Cell \u001b[1;32mIn[31], line 1\u001b[1;36m\u001b[0m\n\u001b[1;33m    print('It's Naresh IT Technology\")\u001b[0m\n\u001b[1;37m                                    ^\u001b[0m\n\u001b[1;31mSyntaxError\u001b[0m\u001b[1;31m:\u001b[0m unterminated string literal (detected at line 1)\n"
     ]
    }
   ],
   "source": [
    "print('It's Naresh IT Technology\")"
   ]
  },
  {
   "cell_type": "code",
   "execution_count": 32,
   "id": "93f161f5-e701-4126-a24d-2ee4b7b94797",
   "metadata": {},
   "outputs": [
    {
     "ename": "SyntaxError",
     "evalue": "unterminated string literal (detected at line 1) (2744142189.py, line 1)",
     "output_type": "error",
     "traceback": [
      "\u001b[1;36m  Cell \u001b[1;32mIn[32], line 1\u001b[1;36m\u001b[0m\n\u001b[1;33m    print('max it's \"Technology\"')\u001b[0m\n\u001b[1;37m                                ^\u001b[0m\n\u001b[1;31mSyntaxError\u001b[0m\u001b[1;31m:\u001b[0m unterminated string literal (detected at line 1)\n"
     ]
    }
   ],
   "source": [
    "print('max it's \"Technology\"')"
   ]
  },
  {
   "cell_type": "code",
   "execution_count": 35,
   "id": "7d088d74-1d26-4866-8790-bf89d8719462",
   "metadata": {},
   "outputs": [
    {
     "name": "stdout",
     "output_type": "stream",
     "text": [
      "It's Naresh IT Technology\n"
     ]
    }
   ],
   "source": [
    "print('It\\'s Naresh IT Technology') #\\has some special meaning to ignore the error"
   ]
  },
  {
   "cell_type": "code",
   "execution_count": 36,
   "id": "cb9a91b7-d0ba-4df0-9c14-6736b8d7ac33",
   "metadata": {},
   "outputs": [
    {
     "name": "stdout",
     "output_type": "stream",
     "text": [
      "max it Technology\n"
     ]
    }
   ],
   "source": [
    "print('max it','Technology')"
   ]
  },
  {
   "cell_type": "code",
   "execution_count": 37,
   "id": "80dff7fb-802f-43bb-94df-de53c68bc81f",
   "metadata": {},
   "outputs": [
    {
     "name": "stdout",
     "output_type": "stream",
     "text": [
      "max it','Technology\n"
     ]
    }
   ],
   "source": [
    "print(\"max it','Technology\")"
   ]
  },
  {
   "cell_type": "code",
   "execution_count": 39,
   "id": "8d60ab6a-36f9-444b-8d23-3eec844e8fb9",
   "metadata": {},
   "outputs": [
    {
     "data": {
      "text/plain": [
       "'name name'"
      ]
     },
     "execution_count": 39,
     "metadata": {},
     "output_type": "execute_result"
    }
   ],
   "source": [
    "'name' ' name'"
   ]
  },
  {
   "cell_type": "code",
   "execution_count": 40,
   "id": "e3d30e1f-a840-4969-a216-ff3b866a508b",
   "metadata": {},
   "outputs": [
    {
     "data": {
      "text/plain": [
       "'sonam'"
      ]
     },
     "execution_count": 40,
     "metadata": {},
     "output_type": "execute_result"
    }
   ],
   "source": [
    "'sonam'"
   ]
  },
  {
   "cell_type": "markdown",
   "id": "46a209e3-5906-4661-b887-f1ffa6616282",
   "metadata": {},
   "source": []
  },
  {
   "cell_type": "code",
   "execution_count": 41,
   "id": "7259418c-ee14-4130-be88-7f4b24f947fc",
   "metadata": {},
   "outputs": [
    {
     "data": {
      "text/plain": [
       "'MehwishMehwishMehwishMehwishMehwish'"
      ]
     },
     "execution_count": 41,
     "metadata": {},
     "output_type": "execute_result"
    }
   ],
   "source": [
    "5*'Mehwish'  #print Mehwish 5 times"
   ]
  },
  {
   "cell_type": "code",
   "execution_count": 42,
   "id": "04582ebf-f916-48c1-933a-f1227724fdf7",
   "metadata": {},
   "outputs": [
    {
     "data": {
      "text/plain": [
       "' Mehwish Mehwish Mehwish Mehwish Mehwish'"
      ]
     },
     "execution_count": 42,
     "metadata": {},
     "output_type": "execute_result"
    }
   ],
   "source": [
    "5*' Mehwish'"
   ]
  },
  {
   "cell_type": "code",
   "execution_count": 43,
   "id": "74d57c08-5a96-486b-b5bd-04e61fe11336",
   "metadata": {},
   "outputs": [
    {
     "name": "stdout",
     "output_type": "stream",
     "text": [
      "c:\n",
      "it\n"
     ]
    }
   ],
   "source": [
    "print('c:\\nit') #\\n--new line"
   ]
  },
  {
   "cell_type": "code",
   "execution_count": 45,
   "id": "ccbcd5f4-a9c5-4089-9372-472bca160003",
   "metadata": {},
   "outputs": [
    {
     "name": "stdout",
     "output_type": "stream",
     "text": [
      "c:\\nit\n"
     ]
    }
   ],
   "source": [
    "print(r'c:\\nit') #raw string"
   ]
  },
  {
   "cell_type": "markdown",
   "id": "1730fc0e-3a24-49d3-b247-12d5c3301ec5",
   "metadata": {},
   "source": [
    "##Variable || identifier||object"
   ]
  },
  {
   "cell_type": "code",
   "execution_count": 47,
   "id": "53943ea8-ea3e-416f-836a-91b75accd385",
   "metadata": {},
   "outputs": [
    {
     "data": {
      "text/plain": [
       "10"
      ]
     },
     "execution_count": 47,
     "metadata": {},
     "output_type": "execute_result"
    }
   ],
   "source": [
    "x=10\n",
    "x"
   ]
  },
  {
   "cell_type": "code",
   "execution_count": 48,
   "id": "c729a4ca-ef55-441b-a737-6b80d755db57",
   "metadata": {},
   "outputs": [
    {
     "data": {
      "text/plain": [
       "13"
      ]
     },
     "execution_count": 48,
     "metadata": {},
     "output_type": "execute_result"
    }
   ],
   "source": [
    "x+3"
   ]
  },
  {
   "cell_type": "code",
   "execution_count": 50,
   "id": "998b672f-8dda-4103-82ab-814292530553",
   "metadata": {},
   "outputs": [
    {
     "data": {
      "text/plain": [
       "3"
      ]
     },
     "execution_count": 50,
     "metadata": {},
     "output_type": "execute_result"
    }
   ],
   "source": [
    "y=3\n",
    "y"
   ]
  },
  {
   "cell_type": "code",
   "execution_count": 51,
   "id": "feceaece-6d62-4c94-82a5-28e8af1b98f0",
   "metadata": {},
   "outputs": [
    {
     "data": {
      "text/plain": [
       "9"
      ]
     },
     "execution_count": 51,
     "metadata": {},
     "output_type": "execute_result"
    }
   ],
   "source": [
    "x=9\n",
    "x"
   ]
  },
  {
   "cell_type": "code",
   "execution_count": 52,
   "id": "c3c0cbb3-2cc4-4e71-aca4-604c7d5d844c",
   "metadata": {},
   "outputs": [
    {
     "data": {
      "text/plain": [
       "12"
      ]
     },
     "execution_count": 52,
     "metadata": {},
     "output_type": "execute_result"
    }
   ],
   "source": [
    "x+y"
   ]
  },
  {
   "cell_type": "code",
   "execution_count": 53,
   "id": "51a23731-fdfd-49cc-b642-066fcb2bae2c",
   "metadata": {},
   "outputs": [
    {
     "data": {
      "text/plain": [
       "15"
      ]
     },
     "execution_count": 53,
     "metadata": {},
     "output_type": "execute_result"
    }
   ],
   "source": [
    "_+y #_ understand the previous result of the"
   ]
  },
  {
   "cell_type": "code",
   "execution_count": 54,
   "id": "cb14726c-25b5-4c46-8558-a9030dc76244",
   "metadata": {},
   "outputs": [
    {
     "data": {
      "text/plain": [
       "18"
      ]
     },
     "execution_count": 54,
     "metadata": {},
     "output_type": "execute_result"
    }
   ],
   "source": [
    "_+y"
   ]
  },
  {
   "cell_type": "code",
   "execution_count": 55,
   "id": "c9e93b46-d037-4792-8179-ab415dc5c391",
   "metadata": {},
   "outputs": [
    {
     "data": {
      "text/plain": [
       "21"
      ]
     },
     "execution_count": 55,
     "metadata": {},
     "output_type": "execute_result"
    }
   ],
   "source": [
    "_+y"
   ]
  },
  {
   "cell_type": "markdown",
   "id": "c1b048fd-73cf-4f05-a761-3b1ec3c8f933",
   "metadata": {},
   "source": [
    "## string variable"
   ]
  },
  {
   "cell_type": "code",
   "execution_count": 59,
   "id": "78b06f1a-66d2-468e-8d49-05117e75e2d4",
   "metadata": {},
   "outputs": [
    {
     "data": {
      "text/plain": [
       "'Mehwish'"
      ]
     },
     "execution_count": 59,
     "metadata": {},
     "output_type": "execute_result"
    }
   ],
   "source": [
    "name='Mehwish'\n",
    "name"
   ]
  },
  {
   "cell_type": "code",
   "execution_count": 60,
   "id": "b9d709ba-79e4-4ccb-b43d-668d6315df2d",
   "metadata": {},
   "outputs": [
    {
     "data": {
      "text/plain": [
       "'MehwishHayat'"
      ]
     },
     "execution_count": 60,
     "metadata": {},
     "output_type": "execute_result"
    }
   ],
   "source": [
    "name+'Hayat'"
   ]
  },
  {
   "cell_type": "code",
   "execution_count": 61,
   "id": "28e00b44-aa8e-45c4-aba2-9b14574159c5",
   "metadata": {},
   "outputs": [
    {
     "data": {
      "text/plain": [
       "'Mehwish Hayat'"
      ]
     },
     "execution_count": 61,
     "metadata": {},
     "output_type": "execute_result"
    }
   ],
   "source": [
    "name+' Hayat'"
   ]
  },
  {
   "cell_type": "code",
   "execution_count": 62,
   "id": "18dd86c0-73c9-4310-b894-323fae4dda14",
   "metadata": {},
   "outputs": [
    {
     "ename": "SyntaxError",
     "evalue": "invalid syntax (3738557469.py, line 1)",
     "output_type": "error",
     "traceback": [
      "\u001b[1;36m  Cell \u001b[1;32mIn[62], line 1\u001b[1;36m\u001b[0m\n\u001b[1;33m    name 'hayat'\u001b[0m\n\u001b[1;37m         ^\u001b[0m\n\u001b[1;31mSyntaxError\u001b[0m\u001b[1;31m:\u001b[0m invalid syntax\n"
     ]
    }
   ],
   "source": [
    "name 'hayat'"
   ]
  },
  {
   "cell_type": "code",
   "execution_count": 63,
   "id": "681dba21-1d7c-41cd-9fa1-9db8f9a5cbf9",
   "metadata": {},
   "outputs": [
    {
     "data": {
      "text/plain": [
       "('Mehwish', 'Hayat')"
      ]
     },
     "execution_count": 63,
     "metadata": {},
     "output_type": "execute_result"
    }
   ],
   "source": [
    "name, 'Hayat'"
   ]
  },
  {
   "cell_type": "code",
   "execution_count": 64,
   "id": "855e7144-ca08-4906-a747-128ea4bb7461",
   "metadata": {},
   "outputs": [
    {
     "data": {
      "text/plain": [
       "7"
      ]
     },
     "execution_count": 64,
     "metadata": {},
     "output_type": "execute_result"
    }
   ],
   "source": [
    "len(name)"
   ]
  },
  {
   "cell_type": "code",
   "execution_count": 65,
   "id": "5ac6d97f-2580-4faa-944e-3a8c373df716",
   "metadata": {},
   "outputs": [
    {
     "data": {
      "text/plain": [
       "'M'"
      ]
     },
     "execution_count": 65,
     "metadata": {},
     "output_type": "execute_result"
    }
   ],
   "source": [
    "name[0]  #python index begins with 0"
   ]
  },
  {
   "cell_type": "code",
   "execution_count": 67,
   "id": "a60fc298-7c31-403c-b95f-d9bb0abb3e5d",
   "metadata": {},
   "outputs": [
    {
     "ename": "IndexError",
     "evalue": "string index out of range",
     "output_type": "error",
     "traceback": [
      "\u001b[1;31m---------------------------------------------------------------------------\u001b[0m",
      "\u001b[1;31mIndexError\u001b[0m                                Traceback (most recent call last)",
      "Cell \u001b[1;32mIn[67], line 1\u001b[0m\n\u001b[1;32m----> 1\u001b[0m name[\u001b[38;5;241m8\u001b[39m]\n",
      "\u001b[1;31mIndexError\u001b[0m: string index out of range"
     ]
    }
   ],
   "source": [
    "name[8]"
   ]
  },
  {
   "cell_type": "code",
   "execution_count": 68,
   "id": "21e7c2d5-5a28-41d6-bc9d-84f3d69b3ad1",
   "metadata": {},
   "outputs": [
    {
     "data": {
      "text/plain": [
       "'h'"
      ]
     },
     "execution_count": 68,
     "metadata": {},
     "output_type": "execute_result"
    }
   ],
   "source": [
    "name[2]"
   ]
  },
  {
   "cell_type": "code",
   "execution_count": 70,
   "id": "11056319-200b-49ad-94a0-fff1f9218523",
   "metadata": {},
   "outputs": [
    {
     "data": {
      "text/plain": [
       "'i'"
      ]
     },
     "execution_count": 70,
     "metadata": {},
     "output_type": "execute_result"
    }
   ],
   "source": [
    "name[4]"
   ]
  },
  {
   "cell_type": "code",
   "execution_count": 71,
   "id": "67dd2e91-f8f5-4e9e-8b3c-3ebae3cb0b02",
   "metadata": {},
   "outputs": [
    {
     "data": {
      "text/plain": [
       "'h'"
      ]
     },
     "execution_count": 71,
     "metadata": {},
     "output_type": "execute_result"
    }
   ],
   "source": [
    "name[6]"
   ]
  },
  {
   "cell_type": "code",
   "execution_count": 75,
   "id": "104b698e-3d43-459a-9776-cdb924c25b15",
   "metadata": {},
   "outputs": [
    {
     "data": {
      "text/plain": [
       "'s'"
      ]
     },
     "execution_count": 75,
     "metadata": {},
     "output_type": "execute_result"
    }
   ],
   "source": [
    "name[-2]"
   ]
  },
  {
   "cell_type": "code",
   "execution_count": 77,
   "id": "67755940-42ed-4911-8d54-c08499fdd32d",
   "metadata": {},
   "outputs": [
    {
     "data": {
      "text/plain": [
       "'w'"
      ]
     },
     "execution_count": 77,
     "metadata": {},
     "output_type": "execute_result"
    }
   ],
   "source": [
    "name[-4]"
   ]
  },
  {
   "cell_type": "markdown",
   "id": "3597572b-c468-4f7f-984f-1c2eb877771a",
   "metadata": {},
   "source": [
    "##slicing"
   ]
  },
  {
   "cell_type": "code",
   "execution_count": 78,
   "id": "1bb24758-84f1-4e9e-a668-06871da0ff7c",
   "metadata": {},
   "outputs": [
    {
     "data": {
      "text/plain": [
       "'mehwish'"
      ]
     },
     "execution_count": 78,
     "metadata": {},
     "output_type": "execute_result"
    }
   ],
   "source": [
    "name"
   ]
  },
  {
   "cell_type": "markdown",
   "id": "a7f245be-d3eb-4714-9e32-dc48190285e4",
   "metadata": {},
   "source": []
  },
  {
   "cell_type": "code",
   "execution_count": 79,
   "id": "6104af8e-d8d0-4bae-8e98-0a05e54533ca",
   "metadata": {},
   "outputs": [
    {
     "data": {
      "text/plain": [
       "'m'"
      ]
     },
     "execution_count": 79,
     "metadata": {},
     "output_type": "execute_result"
    }
   ],
   "source": [
    "name[0:1]"
   ]
  },
  {
   "cell_type": "code",
   "execution_count": 80,
   "id": "cf26e3c6-8ee9-4089-b957-4a3227c663e4",
   "metadata": {},
   "outputs": [
    {
     "data": {
      "text/plain": [
       "'me'"
      ]
     },
     "execution_count": 80,
     "metadata": {},
     "output_type": "execute_result"
    }
   ],
   "source": [
    "name[0:2]"
   ]
  },
  {
   "cell_type": "code",
   "execution_count": 81,
   "id": "7dcbfa42-72cb-4d43-ad44-b9bd6058dc1a",
   "metadata": {},
   "outputs": [
    {
     "data": {
      "text/plain": [
       "'ehw'"
      ]
     },
     "execution_count": 81,
     "metadata": {},
     "output_type": "execute_result"
    }
   ],
   "source": [
    "name[1:4]"
   ]
  },
  {
   "cell_type": "code",
   "execution_count": 82,
   "id": "4a3d099f-a539-4f18-9661-f97b561ad076",
   "metadata": {},
   "outputs": [
    {
     "data": {
      "text/plain": [
       "'ehwish'"
      ]
     },
     "execution_count": 82,
     "metadata": {},
     "output_type": "execute_result"
    }
   ],
   "source": [
    "name[1:]"
   ]
  },
  {
   "cell_type": "code",
   "execution_count": 83,
   "id": "9afdbcb2-7768-4da1-9a7c-d52758d4a66b",
   "metadata": {},
   "outputs": [
    {
     "data": {
      "text/plain": [
       "'mehw'"
      ]
     },
     "execution_count": 83,
     "metadata": {},
     "output_type": "execute_result"
    }
   ],
   "source": [
    "name[:4]"
   ]
  },
  {
   "cell_type": "code",
   "execution_count": 85,
   "id": "c7cee617-84ce-4f1f-812a-fe36d9df885c",
   "metadata": {},
   "outputs": [
    {
     "data": {
      "text/plain": [
       "'mehwish'"
      ]
     },
     "execution_count": 85,
     "metadata": {},
     "output_type": "execute_result"
    }
   ],
   "source": [
    "name"
   ]
  },
  {
   "cell_type": "code",
   "execution_count": 86,
   "id": "6342f1bd-17f4-4124-b5d4-412af90d37ea",
   "metadata": {},
   "outputs": [
    {
     "data": {
      "text/plain": [
       "'wish'"
      ]
     },
     "execution_count": 86,
     "metadata": {},
     "output_type": "execute_result"
    }
   ],
   "source": [
    "name[3:9]"
   ]
  },
  {
   "cell_type": "markdown",
   "id": "3d33750f-f02d-4262-b269-417a7e8b128e",
   "metadata": {},
   "source": [
    "##convert string fine to dine"
   ]
  },
  {
   "cell_type": "code",
   "execution_count": 88,
   "id": "9f252155-de5e-45f0-8460-954d153f0e1c",
   "metadata": {},
   "outputs": [
    {
     "data": {
      "text/plain": [
       "'fine'"
      ]
     },
     "execution_count": 88,
     "metadata": {},
     "output_type": "execute_result"
    }
   ],
   "source": [
    "name='fine'\n",
    "name"
   ]
  },
  {
   "cell_type": "code",
   "execution_count": 89,
   "id": "359d0fb6-0a3a-4055-b814-9007d9599cb4",
   "metadata": {},
   "outputs": [
    {
     "data": {
      "text/plain": [
       "'ine'"
      ]
     },
     "execution_count": 89,
     "metadata": {},
     "output_type": "execute_result"
    }
   ],
   "source": [
    "name[1:]"
   ]
  },
  {
   "cell_type": "code",
   "execution_count": 90,
   "id": "7f9f6413-5431-4343-b08f-8b02a86cb91b",
   "metadata": {},
   "outputs": [
    {
     "data": {
      "text/plain": [
       "'Dine'"
      ]
     },
     "execution_count": 90,
     "metadata": {},
     "output_type": "execute_result"
    }
   ],
   "source": [
    "'D'+name[1:] #replace f letter with D"
   ]
  },
  {
   "cell_type": "code",
   "execution_count": 92,
   "id": "dcd0d5a7-08ee-4468-aa1b-53ea765ea8ef",
   "metadata": {},
   "outputs": [
    {
     "data": {
      "text/plain": [
       "'Dine'"
      ]
     },
     "execution_count": 92,
     "metadata": {},
     "output_type": "execute_result"
    }
   ],
   "source": [
    "name1='D' +name[1:]\n",
    "name1\n"
   ]
  },
  {
   "cell_type": "code",
   "execution_count": 93,
   "id": "bec77ede-d134-462b-8590-b78b22fa901f",
   "metadata": {},
   "outputs": [
    {
     "name": "stdout",
     "output_type": "stream",
     "text": [
      "fine\n",
      "Dine\n"
     ]
    }
   ],
   "source": [
    "print(name)\n",
    "print(name1)"
   ]
  },
  {
   "cell_type": "markdown",
   "id": "db5bf6be-30c6-4707-99df-051fb26c7891",
   "metadata": {},
   "source": [
    "##convert string glass to grass"
   ]
  },
  {
   "cell_type": "code",
   "execution_count": 95,
   "id": "49ea87be-9292-4d10-befa-497d0db026c2",
   "metadata": {},
   "outputs": [
    {
     "name": "stdout",
     "output_type": "stream",
     "text": [
      "Glass\n",
      "Grass\n"
     ]
    }
   ],
   "source": [
    "str='Glass'\n",
    "str\n",
    "str[0]\n",
    "str[1]\n",
    "str[2:]\n",
    "str1=str[0] + 'r' +str[2:]\n",
    "print(str)\n",
    "print(str1)"
   ]
  },
  {
   "cell_type": "code",
   "execution_count": null,
   "id": "cb26e072-bfbe-4200-ba84-70466a1d4cc9",
   "metadata": {},
   "outputs": [],
   "source": [
    "##convert string change to range"
   ]
  },
  {
   "cell_type": "code",
   "execution_count": 103,
   "id": "7cbf6d8b-3f88-482b-acd9-2f55b5d13c59",
   "metadata": {},
   "outputs": [
    {
     "name": "stdout",
     "output_type": "stream",
     "text": [
      "change\n",
      "Range\n"
     ]
    }
   ],
   "source": [
    "str2='change'\n",
    "str[0:2]\n",
    "str[2:]\n",
    "str3= 'R' +str2[2:]\n",
    "print(str2)\n",
    "print(str3)"
   ]
  },
  {
   "cell_type": "code",
   "execution_count": 105,
   "id": "3bb3c805-f8a6-4f1a-a183-803bddcbd3b6",
   "metadata": {},
   "outputs": [
    {
     "data": {
      "text/plain": [
       "[1, 2, 'Academy', 'nit', 50]"
      ]
     },
     "execution_count": 105,
     "metadata": {},
     "output_type": "execute_result"
    }
   ],
   "source": [
    "num1=[1,2,'Academy',50]\n",
    "num1.insert(3,'nit')\n",
    "num1"
   ]
  },
  {
   "cell_type": "code",
   "execution_count": 106,
   "id": "ff7d5838-6adf-4b01-866f-39370bdfecf5",
   "metadata": {},
   "outputs": [
    {
     "data": {
      "text/plain": [
       "[]"
      ]
     },
     "execution_count": 106,
     "metadata": {},
     "output_type": "execute_result"
    }
   ],
   "source": [
    "num1.clear()\n",
    "num1"
   ]
  },
  {
   "cell_type": "markdown",
   "id": "3a9f91c6-e82b-453c-be5d-4de5959b9f5c",
   "metadata": {},
   "source": [
    "##ID"
   ]
  },
  {
   "cell_type": "code",
   "execution_count": null,
   "id": "4e5d0a89-ce91-415a-afb1-411884427669",
   "metadata": {},
   "outputs": [],
   "source": [
    "#variable address"
   ]
  },
  {
   "cell_type": "code",
   "execution_count": 107,
   "id": "8724927e-6f22-4113-8050-547990a99c8f",
   "metadata": {},
   "outputs": [
    {
     "data": {
      "text/plain": [
       "140731550214712"
      ]
     },
     "execution_count": 107,
     "metadata": {},
     "output_type": "execute_result"
    }
   ],
   "source": [
    "num=5\n",
    "id(num)"
   ]
  },
  {
   "cell_type": "code",
   "execution_count": 108,
   "id": "5e065a0c-1871-4840-b1db-991563a1f6f2",
   "metadata": {},
   "outputs": [
    {
     "data": {
      "text/plain": [
       "2139408355792"
      ]
     },
     "execution_count": 108,
     "metadata": {},
     "output_type": "execute_result"
    }
   ],
   "source": [
    "name= 'nit'\n",
    "id(name) #address will be different for both"
   ]
  },
  {
   "cell_type": "code",
   "execution_count": 109,
   "id": "8c386579-b308-407b-870e-40d202237e63",
   "metadata": {},
   "outputs": [
    {
     "data": {
      "text/plain": [
       "140731550214872"
      ]
     },
     "execution_count": 109,
     "metadata": {},
     "output_type": "execute_result"
    }
   ],
   "source": [
    "a=10\n",
    "id(a)"
   ]
  },
  {
   "cell_type": "code",
   "execution_count": 111,
   "id": "ae962679-f91d-41dc-8e35-c3a418215453",
   "metadata": {},
   "outputs": [
    {
     "data": {
      "text/plain": [
       "140731550214840"
      ]
     },
     "execution_count": 111,
     "metadata": {},
     "output_type": "execute_result"
    }
   ],
   "source": [
    "k=9\n",
    "id(k)"
   ]
  },
  {
   "cell_type": "code",
   "execution_count": 112,
   "id": "c10392c9-1d4a-48da-ae0e-738141a44c8f",
   "metadata": {},
   "outputs": [
    {
     "name": "stdout",
     "output_type": "stream",
     "text": [
      "140731550214872\n",
      "140731550214872\n",
      "140731550214840\n"
     ]
    }
   ],
   "source": [
    "b=a #thats why python is more memory eficient\n",
    "print(id(a))\n",
    "print(id(b))\n",
    "print(id(k))"
   ]
  },
  {
   "cell_type": "code",
   "execution_count": 2,
   "id": "bcb0f9ad-6937-4827-a09a-9f57bc850c23",
   "metadata": {},
   "outputs": [
    {
     "data": {
      "text/plain": [
       "140731527146520"
      ]
     },
     "execution_count": 2,
     "metadata": {},
     "output_type": "execute_result"
    }
   ],
   "source": [
    "a=20 # as we change the value of a variable then adres will be change\n",
    "id (a)"
   ]
  },
  {
   "cell_type": "code",
   "execution_count": 4,
   "id": "9d012d4c-e79d-4edd-b3b8-95716b70b0f5",
   "metadata": {},
   "outputs": [
    {
     "name": "stdout",
     "output_type": "stream",
     "text": [
      "10\n"
     ]
    }
   ],
   "source": [
    "b=10\n",
    "print(b)\n"
   ]
  },
  {
   "cell_type": "code",
   "execution_count": 5,
   "id": "e04b09a6-e246-4a86-af47-e96ec70e41dc",
   "metadata": {},
   "outputs": [
    {
     "data": {
      "text/plain": [
       "140731527146200"
      ]
     },
     "execution_count": 5,
     "metadata": {},
     "output_type": "execute_result"
    }
   ],
   "source": [
    "id(b)"
   ]
  },
  {
   "cell_type": "markdown",
   "id": "98be5f27-32a4-417c-9c61-2592b3c147ed",
   "metadata": {},
   "source": [
    "   .what ever the variable we assigned the memory and we can not assigned anywhere         then we  can use as garbage collection.\n",
    "   . variable- we can change the values.\n",
    "   .  constant- we cannot change the value can we make variable as a constant\n",
    "   .(note- in python you can not make variable as constant\n"
   ]
  },
  {
   "cell_type": "code",
   "execution_count": 6,
   "id": "3b148501-38dd-4a76-b40c-5c8141037a4d",
   "metadata": {},
   "outputs": [
    {
     "data": {
      "text/plain": [
       "3.14"
      ]
     },
     "execution_count": 6,
     "metadata": {},
     "output_type": "execute_result"
    }
   ],
   "source": [
    "PI=3.14 #in math this is always constant but python we can change\n",
    "PI"
   ]
  },
  {
   "cell_type": "code",
   "execution_count": 7,
   "id": "7add0e64-ff49-4301-b456-b057c4ae0a7a",
   "metadata": {},
   "outputs": [
    {
     "data": {
      "text/plain": [
       "3.15"
      ]
     },
     "execution_count": 7,
     "metadata": {},
     "output_type": "execute_result"
    }
   ],
   "source": [
    "PI=3.15\n",
    "PI"
   ]
  },
  {
   "cell_type": "code",
   "execution_count": 8,
   "id": "d73a355a-88bc-4751-8baa-ae72e83619e3",
   "metadata": {},
   "outputs": [
    {
     "data": {
      "text/plain": [
       "float"
      ]
     },
     "execution_count": 8,
     "metadata": {},
     "output_type": "execute_result"
    }
   ],
   "source": [
    "type(PI)"
   ]
  },
  {
   "cell_type": "markdown",
   "id": "bd09c00f-4739-4821-b212-3f99820bb6a6",
   "metadata": {},
   "source": [
    "Operators\n",
    "  .1-Arithmetic operator(+,-,/,%,//,*,^)\n",
    "  .2-Assignment operator(=)\n",
    "  .3-Relational operator(>,<,>=,<=,!=)\n",
    "  .4-Logical operator(AND,OR,NOT)\n",
    "  .5-Unary operator(- minus)"
   ]
  },
  {
   "cell_type": "code",
   "execution_count": null,
   "id": "778399d2-b302-4956-bfb6-f7962af1e0e7",
   "metadata": {},
   "outputs": [],
   "source": [
    "ARITHMETIC OPERATOR"
   ]
  },
  {
   "cell_type": "code",
   "execution_count": 9,
   "id": "3d9928ea-3ecf-4aea-9dbb-ced7411b865f",
   "metadata": {},
   "outputs": [
    {
     "name": "stdout",
     "output_type": "stream",
     "text": [
      "10\n",
      "5\n"
     ]
    }
   ],
   "source": [
    "x1,y1=10,5\n",
    "print(x1)\n",
    "print(y1)"
   ]
  },
  {
   "cell_type": "code",
   "execution_count": 10,
   "id": "afc6bce7-c96f-4c83-aa0b-01d06a25beb8",
   "metadata": {},
   "outputs": [
    {
     "name": "stdout",
     "output_type": "stream",
     "text": [
      "15\n",
      "5\n",
      "2.0\n",
      "2\n",
      "50\n",
      "0\n"
     ]
    }
   ],
   "source": [
    "print(x1+y1)\n",
    "print(x1-y1)\n",
    "print(x1/y1)\n",
    "print(x1//y1)\n",
    "print(x1*y1)\n",
    "print(x1%y1)"
   ]
  },
  {
   "cell_type": "code",
   "execution_count": 11,
   "id": "7aea1963-64d2-4ff7-94c0-8fe967f40b02",
   "metadata": {},
   "outputs": [
    {
     "data": {
      "text/plain": [
       "9"
      ]
     },
     "execution_count": 11,
     "metadata": {},
     "output_type": "execute_result"
    }
   ],
   "source": [
    "x2=3\n",
    "y2=2\n",
    "x2**y2"
   ]
  },
  {
   "cell_type": "code",
   "execution_count": null,
   "id": "0abb1590-d628-44d3-9d96-a1ac453bcfed",
   "metadata": {},
   "outputs": [],
   "source": [
    "ASSIGNMENT OPERATOR"
   ]
  },
  {
   "cell_type": "code",
   "execution_count": 14,
   "id": "c705ab5d-1d51-4ed1-ac14-baad6da7e919",
   "metadata": {},
   "outputs": [
    {
     "data": {
      "text/plain": [
       "4"
      ]
     },
     "execution_count": 14,
     "metadata": {},
     "output_type": "execute_result"
    }
   ],
   "source": [
    "x=2\n",
    "x=x+2\n",
    "x"
   ]
  },
  {
   "cell_type": "code",
   "execution_count": 15,
   "id": "85154d5d-41bf-4edc-b488-71b6faae5a80",
   "metadata": {},
   "outputs": [
    {
     "data": {
      "text/plain": [
       "6"
      ]
     },
     "execution_count": 15,
     "metadata": {},
     "output_type": "execute_result"
    }
   ],
   "source": [
    "x+=2\n",
    "x"
   ]
  },
  {
   "cell_type": "code",
   "execution_count": 16,
   "id": "34cd5a15-69b8-4100-9cb3-188294b2bd86",
   "metadata": {},
   "outputs": [
    {
     "data": {
      "text/plain": [
       "8"
      ]
     },
     "execution_count": 16,
     "metadata": {},
     "output_type": "execute_result"
    }
   ],
   "source": [
    "x+=2\n",
    "x"
   ]
  },
  {
   "cell_type": "code",
   "execution_count": 18,
   "id": "136eb723-2eb9-4e0b-9800-027d3a6fad1d",
   "metadata": {},
   "outputs": [
    {
     "data": {
      "text/plain": [
       "32"
      ]
     },
     "execution_count": 18,
     "metadata": {},
     "output_type": "execute_result"
    }
   ],
   "source": [
    "x*=2\n",
    "x"
   ]
  },
  {
   "cell_type": "code",
   "execution_count": 19,
   "id": "fe52d574-6a49-4f1c-bfd7-254ddc2d508f",
   "metadata": {},
   "outputs": [
    {
     "data": {
      "text/plain": [
       "30"
      ]
     },
     "execution_count": 19,
     "metadata": {},
     "output_type": "execute_result"
    }
   ],
   "source": [
    "x-+2"
   ]
  },
  {
   "cell_type": "code",
   "execution_count": 20,
   "id": "efd73d7c-ed22-4577-ae01-92d8189119c3",
   "metadata": {},
   "outputs": [
    {
     "data": {
      "text/plain": [
       "16.0"
      ]
     },
     "execution_count": 20,
     "metadata": {},
     "output_type": "execute_result"
    }
   ],
   "source": [
    "x/=2\n",
    "x"
   ]
  },
  {
   "cell_type": "code",
   "execution_count": 25,
   "id": "c3f41fec-d6d5-4524-967e-8a849fa25e0a",
   "metadata": {},
   "outputs": [
    {
     "data": {
      "text/plain": [
       "4.0"
      ]
     },
     "execution_count": 25,
     "metadata": {},
     "output_type": "execute_result"
    }
   ],
   "source": [
    "x//=2\n",
    "x"
   ]
  },
  {
   "cell_type": "code",
   "execution_count": null,
   "id": "4662622e-2bac-49c2-939e-4b02413df479",
   "metadata": {},
   "outputs": [],
   "source": [
    "UNARY OPERATOR\n",
    " unary means 1 || binary means 2\n",
    " Here we are applying unary minus(-) on the operand n; the value of m becomes -7, \n",
    " which indicates it is a negative value. "
   ]
  },
  {
   "cell_type": "code",
   "execution_count": 26,
   "id": "d857f17d-29f7-4e61-b3d4-82e671b9f109",
   "metadata": {},
   "outputs": [
    {
     "data": {
      "text/plain": [
       "7"
      ]
     },
     "execution_count": 26,
     "metadata": {},
     "output_type": "execute_result"
    }
   ],
   "source": [
    "n=7 #negattion\n",
    "n"
   ]
  },
  {
   "cell_type": "code",
   "execution_count": 27,
   "id": "6bfae67a-2bac-4fbc-b389-f42a1efa1d5a",
   "metadata": {},
   "outputs": [
    {
     "data": {
      "text/plain": [
       "-7"
      ]
     },
     "execution_count": 27,
     "metadata": {},
     "output_type": "execute_result"
    }
   ],
   "source": [
    "m=-(n)\n",
    "m"
   ]
  },
  {
   "cell_type": "code",
   "execution_count": 28,
   "id": "5388e85e-2115-4ae7-a272-c19466067886",
   "metadata": {},
   "outputs": [
    {
     "name": "stdout",
     "output_type": "stream",
     "text": [
      "7\n",
      "-7\n"
     ]
    }
   ],
   "source": [
    "print(n)\n",
    "print(-n)"
   ]
  },
  {
   "cell_type": "code",
   "execution_count": null,
   "id": "74d1a02f-04cf-41c0-9646-f73d5edb8140",
   "metadata": {},
   "outputs": [],
   "source": [
    "RELATIONAL OPERATOR\n",
    " we are using this operator for comparing"
   ]
  },
  {
   "cell_type": "code",
   "execution_count": 29,
   "id": "f5aedc23-bbd6-4816-a3f9-af42e4bb6662",
   "metadata": {},
   "outputs": [
    {
     "data": {
      "text/plain": [
       "True"
      ]
     },
     "execution_count": 29,
     "metadata": {},
     "output_type": "execute_result"
    }
   ],
   "source": [
    "a=5\n",
    "b=6\n",
    "a<b"
   ]
  },
  {
   "cell_type": "code",
   "execution_count": 30,
   "id": "e0ab6a55-5b0d-420b-946a-a749def965df",
   "metadata": {},
   "outputs": [
    {
     "data": {
      "text/plain": [
       "True"
      ]
     },
     "execution_count": 30,
     "metadata": {},
     "output_type": "execute_result"
    }
   ],
   "source": [
    "a<=b"
   ]
  },
  {
   "cell_type": "code",
   "execution_count": 31,
   "id": "a7d73036-a2e0-4665-b0ac-1a226525f5d1",
   "metadata": {},
   "outputs": [
    {
     "data": {
      "text/plain": [
       "False"
      ]
     },
     "execution_count": 31,
     "metadata": {},
     "output_type": "execute_result"
    }
   ],
   "source": [
    "a>b"
   ]
  },
  {
   "cell_type": "code",
   "execution_count": 32,
   "id": "0627cbd9-bffd-4771-8e8f-c3c2aaf276e8",
   "metadata": {},
   "outputs": [
    {
     "data": {
      "text/plain": [
       "False"
      ]
     },
     "execution_count": 32,
     "metadata": {},
     "output_type": "execute_result"
    }
   ],
   "source": [
    "a>=b"
   ]
  },
  {
   "cell_type": "code",
   "execution_count": 33,
   "id": "5ff34f0c-a24f-4a02-80e8-37fe672451f6",
   "metadata": {},
   "outputs": [
    {
     "data": {
      "text/plain": [
       "False"
      ]
     },
     "execution_count": 33,
     "metadata": {},
     "output_type": "execute_result"
    }
   ],
   "source": [
    "a==b"
   ]
  },
  {
   "cell_type": "code",
   "execution_count": 34,
   "id": "ec784e29-4499-40f7-896f-d62f7d051028",
   "metadata": {},
   "outputs": [
    {
     "data": {
      "text/plain": [
       "True"
      ]
     },
     "execution_count": 34,
     "metadata": {},
     "output_type": "execute_result"
    }
   ],
   "source": [
    "a!=b"
   ]
  },
  {
   "cell_type": "code",
   "execution_count": null,
   "id": "492f274e-2260-4047-b074-9c2c5915b21b",
   "metadata": {},
   "outputs": [],
   "source": [
    "LOGICAL OPERATOR\n",
    "  Logical operator you need to undrstand about true & false table image.png.\n",
    "  3 important part of logical operator is --> AND,OR,NOT"
   ]
  },
  {
   "cell_type": "code",
   "execution_count": 35,
   "id": "9cc43394-c537-4486-8b25-9ac63cb41b1e",
   "metadata": {},
   "outputs": [
    {
     "data": {
      "text/plain": [
       "True"
      ]
     },
     "execution_count": 35,
     "metadata": {},
     "output_type": "execute_result"
    }
   ],
   "source": [
    "a=5\n",
    "b=4\n",
    "a<8 and b<5  # refers to the truth table\n"
   ]
  },
  {
   "cell_type": "code",
   "execution_count": 36,
   "id": "1a441c99-2144-4ddf-afd7-237b6edd0258",
   "metadata": {},
   "outputs": [
    {
     "data": {
      "text/plain": [
       "False"
      ]
     },
     "execution_count": 36,
     "metadata": {},
     "output_type": "execute_result"
    }
   ],
   "source": [
    "a<8 and b<2"
   ]
  },
  {
   "cell_type": "code",
   "execution_count": 37,
   "id": "4d173074-869d-4cbb-bd3c-b2be152a7aa3",
   "metadata": {},
   "outputs": [
    {
     "data": {
      "text/plain": [
       "True"
      ]
     },
     "execution_count": 37,
     "metadata": {},
     "output_type": "execute_result"
    }
   ],
   "source": [
    "a<8 or b<2"
   ]
  },
  {
   "cell_type": "code",
   "execution_count": 38,
   "id": "a9c24607-c01c-451f-8aa5-23eeec4ffe4f",
   "metadata": {},
   "outputs": [
    {
     "data": {
      "text/plain": [
       "False"
      ]
     },
     "execution_count": 38,
     "metadata": {},
     "output_type": "execute_result"
    }
   ],
   "source": [
    "x=False\n",
    "x"
   ]
  },
  {
   "cell_type": "code",
   "execution_count": 39,
   "id": "bf052347-6cc8-472a-b72d-90641f1381ed",
   "metadata": {},
   "outputs": [
    {
     "data": {
      "text/plain": [
       "True"
      ]
     },
     "execution_count": 39,
     "metadata": {},
     "output_type": "execute_result"
    }
   ],
   "source": [
    "not x  #you can reverse the operation"
   ]
  },
  {
   "cell_type": "code",
   "execution_count": null,
   "id": "eb28350f-edb3-4b4e-bf6f-58248f117fe0",
   "metadata": {},
   "outputs": [],
   "source": []
  },
  {
   "cell_type": "code",
   "execution_count": null,
   "id": "31bd90a1-e5e7-4058-b115-214d28eabe04",
   "metadata": {},
   "outputs": [],
   "source": []
  },
  {
   "cell_type": "markdown",
   "id": "4e34b193-af1b-49c4-9f1c-1d148d2cc8d8",
   "metadata": {},
   "source": [
    "##29.01.25 - bitwise no system"
   ]
  },
  {
   "cell_type": "code",
   "execution_count": null,
   "id": "24aff13f-3d64-4c2a-8943-9ade14b04936",
   "metadata": {},
   "outputs": [],
   "source": [
    "ip address(ipconfig)-ipv4"
   ]
  },
  {
   "cell_type": "code",
   "execution_count": 1,
   "id": "dbe606dd-b616-4eee-bb57-359ff8acb44f",
   "metadata": {},
   "outputs": [
    {
     "data": {
      "text/plain": [
       "25"
      ]
     },
     "execution_count": 1,
     "metadata": {},
     "output_type": "execute_result"
    }
   ],
   "source": [
    "25"
   ]
  },
  {
   "cell_type": "markdown",
   "id": "ea7c87cc-1572-4ecb-bd1f-8388737d4594",
   "metadata": {},
   "source": [
    "#binary(base is 2)"
   ]
  },
  {
   "cell_type": "markdown",
   "id": "79c117b9-e6c2-4ac5-974e-29425b40bd8a",
   "metadata": {},
   "source": [
    "##### "
   ]
  },
  {
   "cell_type": "code",
   "execution_count": 2,
   "id": "4bc0e125-833b-44c5-b4b2-a1a35aac55dc",
   "metadata": {},
   "outputs": [
    {
     "data": {
      "text/plain": [
       "'0b11001'"
      ]
     },
     "execution_count": 2,
     "metadata": {},
     "output_type": "execute_result"
    }
   ],
   "source": [
    "bin(25)"
   ]
  },
  {
   "cell_type": "code",
   "execution_count": 3,
   "id": "cae28ca8-0c78-4aa5-89ff-ef39257f2904",
   "metadata": {},
   "outputs": [
    {
     "data": {
      "text/plain": [
       "25"
      ]
     },
     "execution_count": 3,
     "metadata": {},
     "output_type": "execute_result"
    }
   ],
   "source": [
    "int(0b11001)"
   ]
  },
  {
   "cell_type": "markdown",
   "id": "8be1c9bc-dd68-4f5e-8f0c-30602b6ad6cd",
   "metadata": {},
   "source": [
    "##### "
   ]
  },
  {
   "cell_type": "code",
   "execution_count": 4,
   "id": "0cf4e4aa-a7db-4102-a3bd-f6dccdcb019d",
   "metadata": {},
   "outputs": [
    {
     "data": {
      "text/plain": [
       "'0b100011'"
      ]
     },
     "execution_count": 4,
     "metadata": {},
     "output_type": "execute_result"
    }
   ],
   "source": [
    "bin(35)"
   ]
  },
  {
   "cell_type": "code",
   "execution_count": 5,
   "id": "8fecfaf6-2874-4dee-b1a3-48bdecab2f14",
   "metadata": {},
   "outputs": [
    {
     "data": {
      "text/plain": [
       "35"
      ]
     },
     "execution_count": 5,
     "metadata": {},
     "output_type": "execute_result"
    }
   ],
   "source": [
    "int(0b100011)"
   ]
  },
  {
   "cell_type": "markdown",
   "id": "fe3fa2ec-7604-447e-a703-f6922e7229f4",
   "metadata": {},
   "source": [
    "#octal(base is 8)"
   ]
  },
  {
   "cell_type": "code",
   "execution_count": 6,
   "id": "032b05f9-84db-4400-8168-95c06194cd1c",
   "metadata": {},
   "outputs": [
    {
     "data": {
      "text/plain": [
       "'0o31'"
      ]
     },
     "execution_count": 6,
     "metadata": {},
     "output_type": "execute_result"
    }
   ],
   "source": [
    "oct(25)"
   ]
  },
  {
   "cell_type": "code",
   "execution_count": 7,
   "id": "04c1faec-2245-40c6-b18e-3fab001b97a1",
   "metadata": {},
   "outputs": [
    {
     "data": {
      "text/plain": [
       "25"
      ]
     },
     "execution_count": 7,
     "metadata": {},
     "output_type": "execute_result"
    }
   ],
   "source": [
    "int(0o31)"
   ]
  },
  {
   "cell_type": "code",
   "execution_count": 8,
   "id": "654aae2a-c571-44e6-8fee-627ef635faa0",
   "metadata": {},
   "outputs": [
    {
     "data": {
      "text/plain": [
       "'0b111'"
      ]
     },
     "execution_count": 8,
     "metadata": {},
     "output_type": "execute_result"
    }
   ],
   "source": [
    "bin(7)"
   ]
  },
  {
   "cell_type": "markdown",
   "id": "57c13ec7-0586-4f7f-b9d2-604a09b6410c",
   "metadata": {},
   "source": [
    "#hexa(base is 16)"
   ]
  },
  {
   "cell_type": "code",
   "execution_count": 9,
   "id": "a32f2079-63e3-463f-b56c-d9fc0c2c18fb",
   "metadata": {},
   "outputs": [
    {
     "data": {
      "text/plain": [
       "10"
      ]
     },
     "execution_count": 9,
     "metadata": {},
     "output_type": "execute_result"
    }
   ],
   "source": [
    "0xa # zero"
   ]
  },
  {
   "cell_type": "code",
   "execution_count": 10,
   "id": "f63f1abc-e0a2-433f-902d-bb1591646ac3",
   "metadata": {},
   "outputs": [
    {
     "data": {
      "text/plain": [
       "11"
      ]
     },
     "execution_count": 10,
     "metadata": {},
     "output_type": "execute_result"
    }
   ],
   "source": [
    "0xb"
   ]
  },
  {
   "cell_type": "code",
   "execution_count": 11,
   "id": "afc3b568-8f89-4901-befb-a72fea796f27",
   "metadata": {},
   "outputs": [
    {
     "data": {
      "text/plain": [
       "'0x100'"
      ]
     },
     "execution_count": 11,
     "metadata": {},
     "output_type": "execute_result"
    }
   ],
   "source": [
    "hex(256)"
   ]
  },
  {
   "cell_type": "code",
   "execution_count": 12,
   "id": "3b9e80bc-9a03-40d8-acf0-3b14eafb8d31",
   "metadata": {},
   "outputs": [
    {
     "data": {
      "text/plain": [
       "256"
      ]
     },
     "execution_count": 12,
     "metadata": {},
     "output_type": "execute_result"
    }
   ],
   "source": [
    "int(0x100)"
   ]
  },
  {
   "cell_type": "code",
   "execution_count": 14,
   "id": "21426252-e097-4ce9-a69c-bbb3d3e072ef",
   "metadata": {},
   "outputs": [
    {
     "data": {
      "text/plain": [
       "25"
      ]
     },
     "execution_count": 14,
     "metadata": {},
     "output_type": "execute_result"
    }
   ],
   "source": [
    "0x19"
   ]
  },
  {
   "cell_type": "code",
   "execution_count": 15,
   "id": "d40240c2-e097-4207-b289-699bf93ad5b2",
   "metadata": {},
   "outputs": [
    {
     "data": {
      "text/plain": [
       "'0x7'"
      ]
     },
     "execution_count": 15,
     "metadata": {},
     "output_type": "execute_result"
    }
   ],
   "source": [
    "hex(7)"
   ]
  },
  {
   "cell_type": "code",
   "execution_count": 16,
   "id": "5ec04ba5-5aa4-482b-af77-e2815ad3b25f",
   "metadata": {},
   "outputs": [
    {
     "data": {
      "text/plain": [
       "21"
      ]
     },
     "execution_count": 16,
     "metadata": {},
     "output_type": "execute_result"
    }
   ],
   "source": [
    "0x15"
   ]
  },
  {
   "cell_type": "code",
   "execution_count": null,
   "id": "82b0f9c7-7484-44cf-835b-f655fb74962b",
   "metadata": {},
   "outputs": [],
   "source": []
  },
  {
   "cell_type": "markdown",
   "id": "a63c1ac6-c823-4e37-b707-df4428a1e87e",
   "metadata": {},
   "source": [
    "##Swap 2 variables in python\n",
    "   .using temp(3rd variable)\n",
    "   .using operator\n",
    "   .using bit number\n",
    "   .using XOR\n",
    "   .a,b=b,a"
   ]
  },
  {
   "cell_type": "code",
   "execution_count": 17,
   "id": "c9007de6-aba6-4f86-99ea-24e09171de74",
   "metadata": {},
   "outputs": [],
   "source": [
    "a=5\n",
    "b=6"
   ]
  },
  {
   "cell_type": "code",
   "execution_count": 3,
   "id": "365e42f6-fa87-4206-807e-09e005fec5dc",
   "metadata": {},
   "outputs": [
    {
     "name": "stdout",
     "output_type": "stream",
     "text": [
      "7\n",
      "8\n"
     ]
    }
   ],
   "source": [
    "a1=7\n",
    "b1=8\n",
    "print(a1)\n",
    "print(b1)"
   ]
  },
  {
   "cell_type": "code",
   "execution_count": 6,
   "id": "e0e2077d-e74a-4e43-b8b4-bb6083e89499",
   "metadata": {},
   "outputs": [
    {
     "name": "stdout",
     "output_type": "stream",
     "text": [
      "8\n",
      "7\n"
     ]
    }
   ],
   "source": [
    "temp=a1\n",
    "a1=b1\n",
    "b1=temp\n",
    "print(a1)\n",
    "print(b1)"
   ]
  },
  {
   "cell_type": "code",
   "execution_count": 7,
   "id": "ed89b52b-31fd-4325-a8e6-a780c9e7393f",
   "metadata": {},
   "outputs": [
    {
     "name": "stdout",
     "output_type": "stream",
     "text": [
      "6\n",
      "5\n"
     ]
    }
   ],
   "source": [
    "a2=5\n",
    "b2=6\n",
    "a2=a2+b2 #5+6=11\n",
    "b2=a2-b2 #11-6=5\n",
    "a2=a2-b2 #11-5=6\n",
    "print(a2)\n",
    "print(b2)"
   ]
  },
  {
   "cell_type": "code",
   "execution_count": 20,
   "id": "75d23517-5660-4c3a-8af1-5b80c34126ca",
   "metadata": {},
   "outputs": [
    {
     "name": "stdout",
     "output_type": "stream",
     "text": [
      "10\n",
      "5\n"
     ]
    }
   ],
   "source": [
    "a=0b101 #5\n",
    "b=0b1010 #10\n",
    "print(0b1010)\n",
    "print(0b101)"
   ]
  },
  {
   "cell_type": "code",
   "execution_count": 19,
   "id": "a95d1cb3-2cfb-49d3-ba51-a9e8dfae2b95",
   "metadata": {},
   "outputs": [
    {
     "name": "stdout",
     "output_type": "stream",
     "text": [
      "8\n",
      "5\n"
     ]
    }
   ],
   "source": [
    "a=5\n",
    "b=8\n",
    "a,b=b,a\n",
    "print(a)\n",
    "print(b)"
   ]
  },
  {
   "cell_type": "code",
   "execution_count": 21,
   "id": "12aa7d18-7870-47d0-ad3a-32ed28cafd03",
   "metadata": {},
   "outputs": [
    {
     "data": {
      "text/plain": [
       "[40, 30, 20, 10, 40, 30, 20]"
      ]
     },
     "execution_count": 21,
     "metadata": {},
     "output_type": "execute_result"
    }
   ],
   "source": [
    "l=[40,30,20,10,40,30,20]\n",
    "l"
   ]
  },
  {
   "cell_type": "code",
   "execution_count": 22,
   "id": "9b26a829-b3ea-4922-9646-8022d93b3b97",
   "metadata": {},
   "outputs": [
    {
     "data": {
      "text/plain": [
       "[70, 2.3, True, '1+2j', [1, 2, 3]]"
      ]
     },
     "execution_count": 22,
     "metadata": {},
     "output_type": "execute_result"
    }
   ],
   "source": [
    "l1=[70,2.3,True,'1+2j',[1,2,3]]  #nested list\n",
    "l1"
   ]
  },
  {
   "cell_type": "code",
   "execution_count": 24,
   "id": "5e8d117e-4a2c-4122-9117-6e68848a0662",
   "metadata": {},
   "outputs": [
    {
     "data": {
      "text/plain": [
       "[70, 2.3, True, '1+2j', [1, 2, 3]]"
      ]
     },
     "execution_count": 24,
     "metadata": {},
     "output_type": "execute_result"
    }
   ],
   "source": [
    "l2=l1.copy()\n",
    "l2"
   ]
  },
  {
   "cell_type": "code",
   "execution_count": 25,
   "id": "047b9547-9e8e-47cc-95b9-1a355accdece",
   "metadata": {},
   "outputs": [
    {
     "data": {
      "text/plain": [
       "1"
      ]
     },
     "execution_count": 25,
     "metadata": {},
     "output_type": "execute_result"
    }
   ],
   "source": [
    "l2.count(70)"
   ]
  },
  {
   "cell_type": "code",
   "execution_count": 29,
   "id": "8e66a14a-50c5-48c8-8178-80de013b840d",
   "metadata": {},
   "outputs": [
    {
     "data": {
      "text/plain": [
       "[70, 2.3, True, '1+2j', [1, 2, 3], 70, 70, 70, 70]"
      ]
     },
     "execution_count": 29,
     "metadata": {},
     "output_type": "execute_result"
    }
   ],
   "source": [
    "l2.append(70)\n",
    "l2"
   ]
  },
  {
   "cell_type": "code",
   "execution_count": 30,
   "id": "f88907ba-b2a6-482a-8502-8f24a70a7b73",
   "metadata": {},
   "outputs": [
    {
     "data": {
      "text/plain": [
       "[70, 2.3, True, '1+2j', [1, 2, 3], 70, 70, 70, 70]"
      ]
     },
     "execution_count": 30,
     "metadata": {},
     "output_type": "execute_result"
    }
   ],
   "source": [
    "l2[:] # show entire list"
   ]
  },
  {
   "cell_type": "code",
   "execution_count": 31,
   "id": "7cc75f1f-74bf-4c13-a47a-e9f229c59fc9",
   "metadata": {},
   "outputs": [
    {
     "data": {
      "text/plain": [
       "[70, 2.3, True, '1+2j', [1, 2, 3]]"
      ]
     },
     "execution_count": 31,
     "metadata": {},
     "output_type": "execute_result"
    }
   ],
   "source": [
    "l2[:5]"
   ]
  },
  {
   "cell_type": "code",
   "execution_count": 32,
   "id": "1834ec94-af41-4bb0-9f2e-b7ff4066f47d",
   "metadata": {},
   "outputs": [
    {
     "data": {
      "text/plain": [
       "[40, 30, 20, 10, 40, 30, 20]"
      ]
     },
     "execution_count": 32,
     "metadata": {},
     "output_type": "execute_result"
    }
   ],
   "source": [
    "l"
   ]
  },
  {
   "cell_type": "code",
   "execution_count": 33,
   "id": "cacbbfd0-333c-4556-af3e-c1c7fb6237d7",
   "metadata": {},
   "outputs": [
    {
     "data": {
      "text/plain": [
       "[30, 20]"
      ]
     },
     "execution_count": 33,
     "metadata": {},
     "output_type": "execute_result"
    }
   ],
   "source": [
    "l[5:]"
   ]
  },
  {
   "cell_type": "code",
   "execution_count": 34,
   "id": "09629728-a78d-4bf6-b558-3a5b935eae07",
   "metadata": {},
   "outputs": [
    {
     "data": {
      "text/plain": [
       "[40, 30, 20, 10, 40, 30, 20]"
      ]
     },
     "execution_count": 34,
     "metadata": {},
     "output_type": "execute_result"
    }
   ],
   "source": [
    "l"
   ]
  },
  {
   "cell_type": "code",
   "execution_count": 35,
   "id": "67e50b5a-3a1b-420a-8742-7fd7d9de2c86",
   "metadata": {},
   "outputs": [
    {
     "data": {
      "text/plain": [
       "[40, 30, 20, 10, 40, 30]"
      ]
     },
     "execution_count": 35,
     "metadata": {},
     "output_type": "execute_result"
    }
   ],
   "source": [
    "l[:-1]"
   ]
  },
  {
   "cell_type": "code",
   "execution_count": 36,
   "id": "5873245a-43f9-4f68-9414-4687bd5c2d95",
   "metadata": {},
   "outputs": [
    {
     "data": {
      "text/plain": [
       "[40, 30, 20, 10, 40, 30, 20]"
      ]
     },
     "execution_count": 36,
     "metadata": {},
     "output_type": "execute_result"
    }
   ],
   "source": [
    "l"
   ]
  },
  {
   "cell_type": "code",
   "execution_count": 37,
   "id": "588663bb-5a3a-4ecf-9049-3553ef005b47",
   "metadata": {},
   "outputs": [
    {
     "data": {
      "text/plain": [
       "[20, 30, 40, 10, 20, 30, 40]"
      ]
     },
     "execution_count": 37,
     "metadata": {},
     "output_type": "execute_result"
    }
   ],
   "source": [
    "l[::-1]  #advance slicing-->> print the element reverse wise "
   ]
  },
  {
   "cell_type": "code",
   "execution_count": 38,
   "id": "69eede12-aedd-450f-a76b-699606ced91d",
   "metadata": {},
   "outputs": [
    {
     "data": {
      "text/plain": [
       "[40, 30, 20, 10, 40, 30, 20]"
      ]
     },
     "execution_count": 38,
     "metadata": {},
     "output_type": "execute_result"
    }
   ],
   "source": [
    "l"
   ]
  },
  {
   "cell_type": "code",
   "execution_count": 39,
   "id": "689638f9-596d-48b0-9e29-b57f46a4d561",
   "metadata": {},
   "outputs": [
    {
     "data": {
      "text/plain": [
       "[20, 40, 20, 40]"
      ]
     },
     "execution_count": 39,
     "metadata": {},
     "output_type": "execute_result"
    }
   ],
   "source": [
    "l[::-2]   #print every 2 step from reverse"
   ]
  },
  {
   "cell_type": "code",
   "execution_count": 40,
   "id": "4a6568e6-f4d3-4ab7-90b0-0dffcb5bc7fc",
   "metadata": {},
   "outputs": [
    {
     "data": {
      "text/plain": [
       "[40, 30, 20, 10, 40, 30, 20]"
      ]
     },
     "execution_count": 40,
     "metadata": {},
     "output_type": "execute_result"
    }
   ],
   "source": [
    "l"
   ]
  },
  {
   "cell_type": "code",
   "execution_count": 41,
   "id": "890e1e53-e948-45a9-b99d-18fd3021ce93",
   "metadata": {},
   "outputs": [
    {
     "data": {
      "text/plain": [
       "2"
      ]
     },
     "execution_count": 41,
     "metadata": {},
     "output_type": "execute_result"
    }
   ],
   "source": [
    "l.index(20)"
   ]
  },
  {
   "cell_type": "code",
   "execution_count": 42,
   "id": "51ee7189-d82f-402d-9bd1-ba679fa1e31a",
   "metadata": {},
   "outputs": [
    {
     "data": {
      "text/plain": [
       "[70, 2.3, True, '1+2j', [1, 2, 3], 70, 70, 70, 70]"
      ]
     },
     "execution_count": 42,
     "metadata": {},
     "output_type": "execute_result"
    }
   ],
   "source": [
    "l2"
   ]
  },
  {
   "cell_type": "code",
   "execution_count": 43,
   "id": "b54f2db2-0243-4147-bc87-a8ce359c721f",
   "metadata": {},
   "outputs": [
    {
     "data": {
      "text/plain": [
       "2173536827392"
      ]
     },
     "execution_count": 43,
     "metadata": {},
     "output_type": "execute_result"
    }
   ],
   "source": [
    "id(l2)"
   ]
  },
  {
   "cell_type": "code",
   "execution_count": 44,
   "id": "3043bb96-9ce7-4436-9fe8-acdc0f5cc076",
   "metadata": {},
   "outputs": [
    {
     "data": {
      "text/plain": [
       "9"
      ]
     },
     "execution_count": 44,
     "metadata": {},
     "output_type": "execute_result"
    }
   ],
   "source": [
    "len(l2)"
   ]
  },
  {
   "cell_type": "code",
   "execution_count": 46,
   "id": "c06f3a24-9028-4cb6-ac57-822786df012d",
   "metadata": {},
   "outputs": [
    {
     "data": {
      "text/plain": [
       "[]"
      ]
     },
     "execution_count": 46,
     "metadata": {},
     "output_type": "execute_result"
    }
   ],
   "source": [
    "l2.clear()\n",
    "l2"
   ]
  },
  {
   "cell_type": "code",
   "execution_count": 47,
   "id": "173778a0-e744-4ee8-8249-e17312044a40",
   "metadata": {},
   "outputs": [
    {
     "data": {
      "text/plain": [
       "2173536827392"
      ]
     },
     "execution_count": 47,
     "metadata": {},
     "output_type": "execute_result"
    }
   ],
   "source": [
    "id(l2)"
   ]
  },
  {
   "cell_type": "code",
   "execution_count": 49,
   "id": "0313d67e-4393-4872-9662-b8ec288d96de",
   "metadata": {},
   "outputs": [
    {
     "ename": "NameError",
     "evalue": "name 'l2' is not defined",
     "output_type": "error",
     "traceback": [
      "\u001b[1;31m---------------------------------------------------------------------------\u001b[0m",
      "\u001b[1;31mNameError\u001b[0m                                 Traceback (most recent call last)",
      "Cell \u001b[1;32mIn[49], line 1\u001b[0m\n\u001b[1;32m----> 1\u001b[0m \u001b[38;5;28;01mdel\u001b[39;00m l2\n",
      "\u001b[1;31mNameError\u001b[0m: name 'l2' is not defined"
     ]
    }
   ],
   "source": [
    "del l2"
   ]
  },
  {
   "cell_type": "code",
   "execution_count": 50,
   "id": "fe32c6be-989f-4d51-9e3b-29e3ce830acb",
   "metadata": {},
   "outputs": [
    {
     "data": {
      "text/plain": [
       "[70, 2.3, True, '1+2j', [1, 2, 3]]"
      ]
     },
     "execution_count": 50,
     "metadata": {},
     "output_type": "execute_result"
    }
   ],
   "source": [
    "l1"
   ]
  },
  {
   "cell_type": "code",
   "execution_count": 54,
   "id": "81a6e89e-d2dc-4ba0-923a-d5df2b8f09ab",
   "metadata": {},
   "outputs": [
    {
     "ename": "NameError",
     "evalue": "name 'l1' is not defined",
     "output_type": "error",
     "traceback": [
      "\u001b[1;31m---------------------------------------------------------------------------\u001b[0m",
      "\u001b[1;31mNameError\u001b[0m                                 Traceback (most recent call last)",
      "Cell \u001b[1;32mIn[54], line 1\u001b[0m\n\u001b[1;32m----> 1\u001b[0m l1\n",
      "\u001b[1;31mNameError\u001b[0m: name 'l1' is not defined"
     ]
    }
   ],
   "source": [
    "l1"
   ]
  },
  {
   "cell_type": "code",
   "execution_count": 56,
   "id": "a54dbe51-ff27-4a39-9e5f-0aa64749d699",
   "metadata": {},
   "outputs": [
    {
     "data": {
      "text/plain": [
       "[70, 2.3, True, '1+2j', [1, 2, 3]]"
      ]
     },
     "execution_count": 56,
     "metadata": {},
     "output_type": "execute_result"
    }
   ],
   "source": [
    "l1=[70,2.3,True,'1+2j',[1,2,3]]\n",
    "l1    "
   ]
  },
  {
   "cell_type": "code",
   "execution_count": 57,
   "id": "e332a3c1-dd5a-43bf-9c06-121ff4756a0d",
   "metadata": {},
   "outputs": [
    {
     "data": {
      "text/plain": [
       "[1, 2, 3]"
      ]
     },
     "execution_count": 57,
     "metadata": {},
     "output_type": "execute_result"
    }
   ],
   "source": [
    "l1.pop()"
   ]
  },
  {
   "cell_type": "code",
   "execution_count": 58,
   "id": "ac026268-203b-4f3c-a89d-24407ea989e6",
   "metadata": {},
   "outputs": [
    {
     "data": {
      "text/plain": [
       "[70, 2.3, True, '1+2j']"
      ]
     },
     "execution_count": 58,
     "metadata": {},
     "output_type": "execute_result"
    }
   ],
   "source": [
    "l1"
   ]
  },
  {
   "cell_type": "code",
   "execution_count": 59,
   "id": "59e6ca92-aecd-4311-aea1-379295d7a9d7",
   "metadata": {},
   "outputs": [
    {
     "data": {
      "text/plain": [
       "[40, 30, 20, 10, 40, 30, 20]"
      ]
     },
     "execution_count": 59,
     "metadata": {},
     "output_type": "execute_result"
    }
   ],
   "source": [
    "l"
   ]
  },
  {
   "cell_type": "code",
   "execution_count": 65,
   "id": "ba3b039a-ad87-48d9-afe5-6c2b0b72443a",
   "metadata": {},
   "outputs": [
    {
     "data": {
      "text/plain": [
       "[40, 30, 20, 10, 40, 30, 20]"
      ]
     },
     "execution_count": 65,
     "metadata": {},
     "output_type": "execute_result"
    }
   ],
   "source": [
    "l1=l.copy()\n",
    "l1"
   ]
  },
  {
   "cell_type": "code",
   "execution_count": 66,
   "id": "2f7d3ba8-0188-4360-8067-ab8ae3490fd6",
   "metadata": {},
   "outputs": [
    {
     "data": {
      "text/plain": [
       "[40, 30, 10, 40, 30, 20]"
      ]
     },
     "execution_count": 66,
     "metadata": {},
     "output_type": "execute_result"
    }
   ],
   "source": [
    "l1.remove(20) #remove 20 from starting bcz dupicate value is there means two 20 is there and passing element value\n",
    "l1"
   ]
  },
  {
   "cell_type": "code",
   "execution_count": 70,
   "id": "28727c13-ac83-46b9-b51e-1ec2f141e5d5",
   "metadata": {},
   "outputs": [
    {
     "data": {
      "text/plain": [
       "[40, 30, 10, 40, 30, 20]"
      ]
     },
     "execution_count": 70,
     "metadata": {},
     "output_type": "execute_result"
    }
   ],
   "source": [
    "l1"
   ]
  },
  {
   "cell_type": "code",
   "execution_count": 71,
   "id": "66d2e05b-f827-4645-8b54-b983c695ee93",
   "metadata": {},
   "outputs": [
    {
     "data": {
      "text/plain": [
       "30"
      ]
     },
     "execution_count": 71,
     "metadata": {},
     "output_type": "execute_result"
    }
   ],
   "source": [
    "l1.pop(1)  # pop 30 and passing index number"
   ]
  },
  {
   "cell_type": "code",
   "execution_count": 78,
   "id": "19ba9230-3c9f-41b6-b850-d41f4359e7ca",
   "metadata": {},
   "outputs": [
    {
     "data": {
      "text/plain": [
       "[40, 30, 20, 10, 40, 30, 20]"
      ]
     },
     "execution_count": 78,
     "metadata": {},
     "output_type": "execute_result"
    }
   ],
   "source": [
    "l1=l.copy()\n",
    "l1"
   ]
  },
  {
   "cell_type": "code",
   "execution_count": 79,
   "id": "99f33646-780f-4e5f-aa66-7ab58369c4dd",
   "metadata": {},
   "outputs": [
    {
     "data": {
      "text/plain": [
       "20"
      ]
     },
     "execution_count": 79,
     "metadata": {},
     "output_type": "execute_result"
    }
   ],
   "source": [
    "l1.pop(-1)"
   ]
  },
  {
   "cell_type": "code",
   "execution_count": 80,
   "id": "45d422d8-3bfe-4dd6-8b2a-4191e39d8296",
   "metadata": {},
   "outputs": [
    {
     "data": {
      "text/plain": [
       "[40, 30, 20, 10, 40, 30]"
      ]
     },
     "execution_count": 80,
     "metadata": {},
     "output_type": "execute_result"
    }
   ],
   "source": [
    "l1"
   ]
  },
  {
   "cell_type": "code",
   "execution_count": 81,
   "id": "22156627-64ae-43ae-baa0-a70f1bddfa35",
   "metadata": {},
   "outputs": [
    {
     "data": {
      "text/plain": [
       "40"
      ]
     },
     "execution_count": 81,
     "metadata": {},
     "output_type": "execute_result"
    }
   ],
   "source": [
    "l1.pop(-2)"
   ]
  },
  {
   "cell_type": "code",
   "execution_count": 82,
   "id": "d9ae0ca6-8856-4f4a-a04e-7ff611f93d07",
   "metadata": {},
   "outputs": [
    {
     "data": {
      "text/plain": [
       "[40, 30, 20, 10, 30]"
      ]
     },
     "execution_count": 82,
     "metadata": {},
     "output_type": "execute_result"
    }
   ],
   "source": [
    "l1"
   ]
  },
  {
   "cell_type": "code",
   "execution_count": 83,
   "id": "d06be664-5965-4179-af6f-356ac6b369e7",
   "metadata": {},
   "outputs": [
    {
     "data": {
      "text/plain": [
       "[40, 30, 60, 20, 10, 30]"
      ]
     },
     "execution_count": 83,
     "metadata": {},
     "output_type": "execute_result"
    }
   ],
   "source": [
    "l1.insert(2,60) #insert 60 before of index 2\n",
    "l1"
   ]
  },
  {
   "cell_type": "code",
   "execution_count": 84,
   "id": "6cbcf31c-2bde-4408-a3b0-37b51a375039",
   "metadata": {},
   "outputs": [
    {
     "data": {
      "text/plain": [
       "[40, 30, 60, 20, 10, 30]"
      ]
     },
     "execution_count": 84,
     "metadata": {},
     "output_type": "execute_result"
    }
   ],
   "source": [
    "l1"
   ]
  },
  {
   "cell_type": "code",
   "execution_count": 85,
   "id": "7a08c414-c052-44f5-bfeb-b3ea43955cf5",
   "metadata": {},
   "outputs": [
    {
     "data": {
      "text/plain": [
       "40"
      ]
     },
     "execution_count": 85,
     "metadata": {},
     "output_type": "execute_result"
    }
   ],
   "source": [
    "l1[0]"
   ]
  },
  {
   "cell_type": "code",
   "execution_count": 91,
   "id": "caf15658-c384-4a4e-a6a5-68c6b16ce053",
   "metadata": {},
   "outputs": [
    {
     "data": {
      "text/plain": [
       "[40, 30, 60, 20, 10, 30]"
      ]
     },
     "execution_count": 91,
     "metadata": {},
     "output_type": "execute_result"
    }
   ],
   "source": [
    "l1=[40,30,60,20,10,30]\n",
    "l1"
   ]
  },
  {
   "cell_type": "code",
   "execution_count": 93,
   "id": "013cd1e0-933c-4b9d-9470-1fb17c9fd9bb",
   "metadata": {},
   "outputs": [
    {
     "data": {
      "text/plain": [
       "[40, 360, 60, 20, 10, 30]"
      ]
     },
     "execution_count": 93,
     "metadata": {},
     "output_type": "execute_result"
    }
   ],
   "source": [
    "l1[1]=360\n",
    "l1"
   ]
  },
  {
   "cell_type": "code",
   "execution_count": 94,
   "id": "6b6aef2a-1b6e-4131-934c-4d1bfc125b06",
   "metadata": {},
   "outputs": [
    {
     "data": {
      "text/plain": [
       "[400, 30, 20, 10, 40, 30, 20]"
      ]
     },
     "execution_count": 94,
     "metadata": {},
     "output_type": "execute_result"
    }
   ],
   "source": [
    "l"
   ]
  },
  {
   "cell_type": "code",
   "execution_count": 95,
   "id": "e44f20f3-9043-44cd-844a-8c8266c1a2cb",
   "metadata": {},
   "outputs": [
    {
     "data": {
      "text/plain": [
       "7"
      ]
     },
     "execution_count": 95,
     "metadata": {},
     "output_type": "execute_result"
    }
   ],
   "source": [
    "len(l)"
   ]
  },
  {
   "cell_type": "code",
   "execution_count": 96,
   "id": "f45d6dc4-f0b7-4cd0-ae06-7b6437ae41eb",
   "metadata": {},
   "outputs": [
    {
     "data": {
      "text/plain": [
       "6"
      ]
     },
     "execution_count": 96,
     "metadata": {},
     "output_type": "execute_result"
    }
   ],
   "source": [
    "len(l1)"
   ]
  },
  {
   "cell_type": "code",
   "execution_count": 97,
   "id": "a52d43bd-23cb-4983-a0c8-8114ea037514",
   "metadata": {},
   "outputs": [
    {
     "data": {
      "text/plain": [
       "[40, 360, 60, 20, 10, 30, 400, 30, 20, 10, 40, 30, 20]"
      ]
     },
     "execution_count": 97,
     "metadata": {},
     "output_type": "execute_result"
    }
   ],
   "source": [
    "l1.extend(l)\n",
    "l1"
   ]
  },
  {
   "cell_type": "code",
   "execution_count": 98,
   "id": "ca310508-e1f1-48d1-ac9e-783a81c48bc1",
   "metadata": {},
   "outputs": [
    {
     "data": {
      "text/plain": [
       "13"
      ]
     },
     "execution_count": 98,
     "metadata": {},
     "output_type": "execute_result"
    }
   ],
   "source": [
    "len(l1)"
   ]
  },
  {
   "cell_type": "code",
   "execution_count": 99,
   "id": "f02b30d4-858c-4812-9ed3-a093583fefed",
   "metadata": {},
   "outputs": [
    {
     "name": "stdout",
     "output_type": "stream",
     "text": [
      "40\n",
      "360\n",
      "60\n",
      "20\n",
      "10\n",
      "30\n",
      "400\n",
      "30\n",
      "20\n",
      "10\n",
      "40\n",
      "30\n",
      "20\n"
     ]
    }
   ],
   "source": [
    "for i in l1:\n",
    "    print(i)\n",
    "    "
   ]
  },
  {
   "cell_type": "code",
   "execution_count": 100,
   "id": "d8d51fb1-e4ea-407a-afba-3676257a0875",
   "metadata": {},
   "outputs": [
    {
     "name": "stdout",
     "output_type": "stream",
     "text": [
      "(0, 40)\n",
      "(1, 360)\n",
      "(2, 60)\n",
      "(3, 20)\n",
      "(4, 10)\n",
      "(5, 30)\n",
      "(6, 400)\n",
      "(7, 30)\n",
      "(8, 20)\n",
      "(9, 10)\n",
      "(10, 40)\n",
      "(11, 30)\n",
      "(12, 20)\n"
     ]
    }
   ],
   "source": [
    "for i in enumerate(l1):   # show list value with index number\n",
    "    print(i)"
   ]
  },
  {
   "cell_type": "code",
   "execution_count": 101,
   "id": "1b021c8c-4033-4a08-9638-88db84fe551e",
   "metadata": {},
   "outputs": [
    {
     "data": {
      "text/plain": [
       "[40, 360, 60, 20, 10, 30, 400, 30, 20, 10, 40, 30, 20]"
      ]
     },
     "execution_count": 101,
     "metadata": {},
     "output_type": "execute_result"
    }
   ],
   "source": [
    "l1"
   ]
  },
  {
   "cell_type": "code",
   "execution_count": null,
   "id": "34ac7d19-83d8-49ad-8ec4-ee27be78440d",
   "metadata": {},
   "outputs": [],
   "source": []
  },
  {
   "cell_type": "code",
   "execution_count": null,
   "id": "fe9c26c5-5f94-46e4-88a1-44b0995b1c75",
   "metadata": {},
   "outputs": [],
   "source": []
  },
  {
   "cell_type": "code",
   "execution_count": null,
   "id": "08845e5b-c461-45a4-81e3-660ca8303a7a",
   "metadata": {},
   "outputs": [],
   "source": []
  },
  {
   "cell_type": "code",
   "execution_count": null,
   "id": "4dd50bde-4359-45de-b7db-97986bccb870",
   "metadata": {},
   "outputs": [],
   "source": []
  },
  {
   "cell_type": "code",
   "execution_count": null,
   "id": "3b09daeb-3bde-4252-b6d3-e4f9ba3cf853",
   "metadata": {},
   "outputs": [],
   "source": []
  },
  {
   "cell_type": "code",
   "execution_count": null,
   "id": "9511d633-4916-4264-80d9-87c2242ee8a6",
   "metadata": {},
   "outputs": [],
   "source": []
  },
  {
   "cell_type": "code",
   "execution_count": null,
   "id": "eb31e671-ec41-48a7-9ff3-4a70a5824563",
   "metadata": {},
   "outputs": [],
   "source": []
  },
  {
   "cell_type": "code",
   "execution_count": null,
   "id": "1ea36471-6386-4682-8943-fa5d31517f80",
   "metadata": {},
   "outputs": [],
   "source": []
  },
  {
   "cell_type": "code",
   "execution_count": null,
   "id": "edaa238a-b184-4b59-b9ea-3bb320e15db6",
   "metadata": {},
   "outputs": [],
   "source": []
  },
  {
   "cell_type": "code",
   "execution_count": null,
   "id": "63d42cac-5dff-435b-9748-940d3b24acb6",
   "metadata": {},
   "outputs": [],
   "source": []
  },
  {
   "cell_type": "code",
   "execution_count": null,
   "id": "53900f97-b537-402c-8ce9-f689a42195c2",
   "metadata": {},
   "outputs": [],
   "source": []
  },
  {
   "cell_type": "code",
   "execution_count": null,
   "id": "466eb9d7-9f33-4be2-90c4-a33ca96d4b8f",
   "metadata": {},
   "outputs": [],
   "source": []
  }
 ],
 "metadata": {
  "kernelspec": {
   "display_name": "Python 3 (ipykernel)",
   "language": "python",
   "name": "python3"
  },
  "language_info": {
   "codemirror_mode": {
    "name": "ipython",
    "version": 3
   },
   "file_extension": ".py",
   "mimetype": "text/x-python",
   "name": "python",
   "nbconvert_exporter": "python",
   "pygments_lexer": "ipython3",
   "version": "3.12.7"
  }
 },
 "nbformat": 4,
 "nbformat_minor": 5
}
